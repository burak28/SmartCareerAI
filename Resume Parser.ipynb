{
 "cells": [
  {
   "cell_type": "code",
   "execution_count": 1,
   "metadata": {},
   "outputs": [],
   "source": [
    "import spacy\n",
    "import json\n",
    "from spacy import displacy\n",
    "from flask import Flask, request, jsonify\n",
    "from flask_cors import CORS\n",
    "import pandas as pd\n",
    "import ast\n",
    "import requests\n",
    "import numpy as np\n",
    "from sklearn.neighbors import NearestNeighbors"
   ]
  },
  {
   "cell_type": "code",
   "execution_count": null,
   "metadata": {},
   "outputs": [],
   "source": []
  },
  {
   "cell_type": "code",
   "execution_count": 2,
   "metadata": {},
   "outputs": [
    {
     "data": {
      "text/plain": [
       "<flask_cors.extension.CORS at 0x2c3bde87130>"
      ]
     },
     "execution_count": 2,
     "metadata": {},
     "output_type": "execute_result"
    }
   ],
   "source": [
    "app = Flask(__name__)\n",
    "CORS(app)"
   ]
  },
  {
   "cell_type": "code",
   "execution_count": 3,
   "metadata": {},
   "outputs": [],
   "source": [
    "@app.route('/resumeparser', methods=['POST'])\n",
    "def resumeparser():\n",
    "    record = json.loads(request.data)\n",
    "    print(record)\n",
    "    print(request.data)\n",
    "    nlp = spacy.load(\"en_core_web_lg\")\n",
    "    ruler = nlp.add_pipe(\"entity_ruler\", before=\"ner\")\n",
    "    ruler.from_disk(\"Skill_Ruleset.jsonl\")\n",
    "    patterns = [\n",
    "        {\n",
    "            \"label\": \"EMAIL\", \"pattern\": [{\"TEXT\": {\"REGEX\": \"([^@|\\s]+@[^@]+\\.[^@|\\s]+)\"}}]\n",
    "        },\n",
    "        {\n",
    "            \"label\": \"MOBILE\", \"pattern\": [{\"TEXT\": {\"REGEX\": \"\\d{3}[-\\.\\s]??\\d{3}[-\\.\\s]??\\d{4}|\\(\\d{3}\\)\\s*\\d{3}[-\\.\\s]??\\d{4}|\\d{3}[-\\.\\s]??\\d{4}\"}}]\n",
    "        },\n",
    "        {\n",
    "            \"label\": \"PERSONNAME\", \"pattern\": [{'POS': 'PROPN'}, {'POS': 'PROPN'}]\n",
    "        }\n",
    "    ]\n",
    "    ruler.add_patterns(patterns)\n",
    "\n",
    "    text=record[\"description\"]\n",
    "    \n",
    "    doc = nlp(text)\n",
    "\n",
    "    dict={}\n",
    "    skills=[]\n",
    "    i=0\n",
    "    for ent in doc.ents:\n",
    "        if ent.label_ == 'PERSONNAME' and i == 0:\n",
    "            dict[\"personname\"] = ent.text\n",
    "            i = i+1\n",
    "        if ent.label_ == \"EMAIL\":\n",
    "            dict[\"email\"] = ent.text\n",
    "        if ent.label_ == \"MOBILE\":\n",
    "            dict[\"mobile\"] = ent.text\n",
    "        if ent.label_ == \"SKILL\":\n",
    "            skills.append(ent.text)\n",
    "\n",
    "    skills= [i.capitalize() for i in set([i.lower() for i in skills])]\n",
    "    dict[\"skills\"] = skills\n",
    "    print(dict)\n",
    "    return jsonify(dict)\n",
    "\n",
    "@app.route('/isalive', methods=['GET'])\n",
    "def isalive():\n",
    "    return \"Alive!\"\n",
    "\n",
    "@app.route('/bestjob', methods=['POST'])\n",
    "def bestjob():\n",
    "    record = json.loads(request.data)\n",
    "    print(record)\n",
    "    r = requests.get('https://localhost:5001/api/main/userandjobs/'+record[\"id\"], verify=False)\n",
    "    item = r.json()\n",
    "    print(\"yazdırma\")\n",
    "    print(item)\n",
    "    items = dict()\n",
    "    for x in item:\n",
    "        items[x[\"id\"]] = x[\"skills\"]\n",
    "        \n",
    "    df = pd.DataFrame.from_dict(items, orient='index')\n",
    "    df = pd.get_dummies(df)\n",
    "    \n",
    "    withoutUser = df.drop(labels=[record[\"id\"]], axis = 0, inplace=False)\n",
    "    \n",
    "    #Creating model and fit\n",
    "    neigh = NearestNeighbors(n_neighbors=3, radius=0.4)\n",
    "    neigh.fit(withoutUser.to_numpy())\n",
    "    \n",
    "    resultNeighbors = neigh.kneighbors([df.loc[record[\"id\"]].to_numpy()], 3, return_distance=False)\n",
    "    \n",
    "    indexes = df.index.values.tolist()\n",
    "    \n",
    "    result = []\n",
    "    for x in resultNeighbors[0]:\n",
    "        result.append(indexes[x])\n",
    "    \n",
    "    finalarray = []\n",
    "    for x in result:\n",
    "        headers = {\"userId\": record[\"id\"]}\n",
    "        r = requests.get('https://localhost:5001/api/main/workitem/'+x, headers=headers, verify=False)\n",
    "        item = r.json()\n",
    "        finalarray.append(item)\n",
    "        \n",
    "    return jsonify(finalarray)"
   ]
  },
  {
   "cell_type": "code",
   "execution_count": null,
   "metadata": {},
   "outputs": [
    {
     "name": "stdout",
     "output_type": "stream",
     "text": [
      " * Serving Flask app \"__main__\" (lazy loading)\n",
      " * Environment: production\n",
      "   WARNING: This is a development server. Do not use it in a production deployment.\n",
      "   Use a production WSGI server instead.\n",
      " * Debug mode: off\n"
     ]
    },
    {
     "name": "stderr",
     "output_type": "stream",
     "text": [
      " * Running on http://127.0.0.1:4888/ (Press CTRL+C to quit)\n",
      "127.0.0.1 - - [18/May/2022 19:21:56] \"\u001b[37mOPTIONS /bestjob HTTP/1.1\u001b[0m\" 200 -\n"
     ]
    },
    {
     "name": "stdout",
     "output_type": "stream",
     "text": [
      "{'id': '41ad510c-c702-48c1-bae5-393914f46c99'}\n",
      "yazdırma\n",
      "[{'id': 'ff1a1caa-20dd-4941-85ba-06233014b68d', 'skills': ['Ai', 'Deployment', 'Design', 'Databases', 'Computer science', 'Azure', 'Redis', 'Software', 'Computer vision', 'Mongodb', 'Docker', 'Python', 'Business', 'Api', 'Helm', 'Postgresql', 'Software engineering', 'Django', 'Linux', 'Kubernetes']}, {'id': '902aaf16-30a9-4113-bf07-c1a98e36c2a8', 'skills': ['Kubernetes', 'Python']}, {'id': 'c3af74f8-3d5a-4194-acbf-36c081f0fc66', 'skills': ['React', 'Javascript', 'Typescript', 'Languages', 'Server', 'Python', 'Css', 'Html', 'Git', 'Linux', 'Libraries']}, {'id': 'a86db4a5-8f22-4d16-b05c-48c9c90d2459', 'skills': ['Business', 'Ai', 'Api', 'Design', 'Security', 'Engineering', 'Java', 'Ml', 'Mobile', 'Software', 'Collaboration']}, {'id': '4eee47a9-2201-4533-a705-e99f79148bba', 'skills': ['Business', 'Design', 'Spring', 'Database', 'Security', 'Java', 'Languages', 'Support', 'Time to market', 'Operating system', 'Software', 'Concurrency', 'Algorithms']}, {'id': '925e2255-a059-4980-994a-4420c37d3e09', 'skills': ['Machine learning', 'Databases', 'Workflow', 'Industrial engineering', 'Cassandra', 'Nosql', 'Java', 'Software', 'Security', 'Analytics', 'Bash', 'Data stream', 'Mongodb', 'Sql', 'Data management', 'Solr', 'Python', 'Scala', 'Data processing', 'Hadoop', 'Business', 'Throughput', 'Software engineering', 'Elasticsearch', 'Linux', 'Data quality']}, {'id': '0ea6674a-be8d-44c2-bb6c-23466a9632d5', 'skills': ['Business', 'Ai', 'Api', 'Design', 'Security', 'Engineering', 'Java', 'Ml', 'Mobile', 'Software', 'Collaboration']}, {'id': 'e8ec2a00-f764-43d5-b3ba-b586925d9ab3', 'skills': ['React', 'Npm', 'Pixel', 'Design', 'Engineering', 'Webpack', 'Typescript', 'Es6', 'Server', 'Jira', 'Redis', 'Vuex', 'Git', 'Mongodb', 'Redux', 'Libraries']}, {'id': '597d3af9-7a7d-41d1-b7e2-69096f019a5f', 'skills': ['C', 'Api', 'Design', 'Databases', 'Kubernetes', '.net', 'Comprehension', 'Docker', 'Server', 'Devops', 'Redis', 'Software', 'Framework']}, {'id': '2dfc3279-f2ac-4f47-bccc-e1ac22f8c53f', 'skills': ['Ios', 'Support', 'Android', 'Git', 'Collaboration']}, {'id': '1c7e5a22-3f3b-4f0e-a199-f2bfea6ade8d', 'skills': ['Crm', 'Databases', 'Design', 'Support', 'Mode', 'Finance', 'Software', 'Tableau', 'Workload', 'Analytics', 'Sql', 'Reverse engineering', 'Specification', 'Data warehouse', 'System integration', 'Business', 'Oracle', 'Metadata', 'Database', 'Schedule', 'Data quality']}, {'id': '41ad510c-c702-48c1-bae5-393914f46c99', 'skills': ['Software', 'C', 'Testing', 'Database tools', 'Asp.net', 'Mysql']}]\n"
     ]
    },
    {
     "name": "stderr",
     "output_type": "stream",
     "text": [
      "C:\\Users\\Burak\\anaconda3\\lib\\site-packages\\urllib3\\connectionpool.py:981: InsecureRequestWarning: Unverified HTTPS request is being made to host 'localhost'. Adding certificate verification is strongly advised. See: https://urllib3.readthedocs.io/en/latest/advanced-usage.html#ssl-warnings\n",
      "  warnings.warn(\n",
      "C:\\Users\\Burak\\anaconda3\\lib\\site-packages\\urllib3\\connectionpool.py:981: InsecureRequestWarning: Unverified HTTPS request is being made to host 'localhost'. Adding certificate verification is strongly advised. See: https://urllib3.readthedocs.io/en/latest/advanced-usage.html#ssl-warnings\n",
      "  warnings.warn(\n",
      "C:\\Users\\Burak\\anaconda3\\lib\\site-packages\\urllib3\\connectionpool.py:981: InsecureRequestWarning: Unverified HTTPS request is being made to host 'localhost'. Adding certificate verification is strongly advised. See: https://urllib3.readthedocs.io/en/latest/advanced-usage.html#ssl-warnings\n",
      "  warnings.warn(\n",
      "C:\\Users\\Burak\\anaconda3\\lib\\site-packages\\urllib3\\connectionpool.py:981: InsecureRequestWarning: Unverified HTTPS request is being made to host 'localhost'. Adding certificate verification is strongly advised. See: https://urllib3.readthedocs.io/en/latest/advanced-usage.html#ssl-warnings\n",
      "  warnings.warn(\n",
      "127.0.0.1 - - [18/May/2022 19:21:57] \"\u001b[37mPOST /bestjob HTTP/1.1\u001b[0m\" 200 -\n",
      "127.0.0.1 - - [18/May/2022 19:22:12] \"\u001b[37mOPTIONS /bestjob HTTP/1.1\u001b[0m\" 200 -\n",
      "C:\\Users\\Burak\\anaconda3\\lib\\site-packages\\urllib3\\connectionpool.py:981: InsecureRequestWarning: Unverified HTTPS request is being made to host 'localhost'. Adding certificate verification is strongly advised. See: https://urllib3.readthedocs.io/en/latest/advanced-usage.html#ssl-warnings\n",
      "  warnings.warn(\n",
      "C:\\Users\\Burak\\anaconda3\\lib\\site-packages\\urllib3\\connectionpool.py:981: InsecureRequestWarning: Unverified HTTPS request is being made to host 'localhost'. Adding certificate verification is strongly advised. See: https://urllib3.readthedocs.io/en/latest/advanced-usage.html#ssl-warnings\n",
      "  warnings.warn(\n",
      "C:\\Users\\Burak\\anaconda3\\lib\\site-packages\\urllib3\\connectionpool.py:981: InsecureRequestWarning: Unverified HTTPS request is being made to host 'localhost'. Adding certificate verification is strongly advised. See: https://urllib3.readthedocs.io/en/latest/advanced-usage.html#ssl-warnings\n",
      "  warnings.warn(\n",
      "C:\\Users\\Burak\\anaconda3\\lib\\site-packages\\urllib3\\connectionpool.py:981: InsecureRequestWarning: Unverified HTTPS request is being made to host 'localhost'. Adding certificate verification is strongly advised. See: https://urllib3.readthedocs.io/en/latest/advanced-usage.html#ssl-warnings\n",
      "  warnings.warn(\n",
      "127.0.0.1 - - [18/May/2022 19:22:12] \"\u001b[37mPOST /bestjob HTTP/1.1\u001b[0m\" 200 -\n"
     ]
    },
    {
     "name": "stdout",
     "output_type": "stream",
     "text": [
      "{'id': '41ad510c-c702-48c1-bae5-393914f46c99'}\n",
      "yazdırma\n",
      "[{'id': 'ff1a1caa-20dd-4941-85ba-06233014b68d', 'skills': ['Ai', 'Deployment', 'Design', 'Databases', 'Computer science', 'Azure', 'Redis', 'Software', 'Computer vision', 'Mongodb', 'Docker', 'Python', 'Business', 'Api', 'Helm', 'Postgresql', 'Software engineering', 'Django', 'Linux', 'Kubernetes']}, {'id': '902aaf16-30a9-4113-bf07-c1a98e36c2a8', 'skills': ['Kubernetes', 'Python']}, {'id': 'c3af74f8-3d5a-4194-acbf-36c081f0fc66', 'skills': ['React', 'Javascript', 'Typescript', 'Languages', 'Server', 'Python', 'Css', 'Html', 'Git', 'Linux', 'Libraries']}, {'id': 'a86db4a5-8f22-4d16-b05c-48c9c90d2459', 'skills': ['Business', 'Ai', 'Api', 'Design', 'Security', 'Engineering', 'Java', 'Ml', 'Mobile', 'Software', 'Collaboration']}, {'id': '4eee47a9-2201-4533-a705-e99f79148bba', 'skills': ['Business', 'Design', 'Spring', 'Database', 'Security', 'Java', 'Languages', 'Support', 'Time to market', 'Operating system', 'Software', 'Concurrency', 'Algorithms']}, {'id': '925e2255-a059-4980-994a-4420c37d3e09', 'skills': ['Machine learning', 'Databases', 'Workflow', 'Industrial engineering', 'Cassandra', 'Nosql', 'Java', 'Software', 'Security', 'Analytics', 'Bash', 'Data stream', 'Mongodb', 'Sql', 'Data management', 'Solr', 'Python', 'Scala', 'Data processing', 'Hadoop', 'Business', 'Throughput', 'Software engineering', 'Elasticsearch', 'Linux', 'Data quality']}, {'id': '0ea6674a-be8d-44c2-bb6c-23466a9632d5', 'skills': ['Business', 'Ai', 'Api', 'Design', 'Security', 'Engineering', 'Java', 'Ml', 'Mobile', 'Software', 'Collaboration']}, {'id': 'e8ec2a00-f764-43d5-b3ba-b586925d9ab3', 'skills': ['React', 'Npm', 'Pixel', 'Design', 'Engineering', 'Webpack', 'Typescript', 'Es6', 'Server', 'Jira', 'Redis', 'Vuex', 'Git', 'Mongodb', 'Redux', 'Libraries']}, {'id': '597d3af9-7a7d-41d1-b7e2-69096f019a5f', 'skills': ['C', 'Api', 'Design', 'Databases', 'Kubernetes', '.net', 'Comprehension', 'Docker', 'Server', 'Devops', 'Redis', 'Software', 'Framework']}, {'id': '2dfc3279-f2ac-4f47-bccc-e1ac22f8c53f', 'skills': ['Ios', 'Support', 'Android', 'Git', 'Collaboration']}, {'id': '1c7e5a22-3f3b-4f0e-a199-f2bfea6ade8d', 'skills': ['Crm', 'Databases', 'Design', 'Support', 'Mode', 'Finance', 'Software', 'Tableau', 'Workload', 'Analytics', 'Sql', 'Reverse engineering', 'Specification', 'Data warehouse', 'System integration', 'Business', 'Oracle', 'Metadata', 'Database', 'Schedule', 'Data quality']}, {'id': '41ad510c-c702-48c1-bae5-393914f46c99', 'skills': ['Software', 'C', 'Testing', 'Database tools', 'Asp.net', 'Mysql']}]\n"
     ]
    },
    {
     "name": "stderr",
     "output_type": "stream",
     "text": [
      "127.0.0.1 - - [18/May/2022 19:24:00] \"\u001b[37mOPTIONS /bestjob HTTP/1.1\u001b[0m\" 200 -\n",
      "C:\\Users\\Burak\\anaconda3\\lib\\site-packages\\urllib3\\connectionpool.py:981: InsecureRequestWarning: Unverified HTTPS request is being made to host 'localhost'. Adding certificate verification is strongly advised. See: https://urllib3.readthedocs.io/en/latest/advanced-usage.html#ssl-warnings\n",
      "  warnings.warn(\n",
      "C:\\Users\\Burak\\anaconda3\\lib\\site-packages\\urllib3\\connectionpool.py:981: InsecureRequestWarning: Unverified HTTPS request is being made to host 'localhost'. Adding certificate verification is strongly advised. See: https://urllib3.readthedocs.io/en/latest/advanced-usage.html#ssl-warnings\n",
      "  warnings.warn(\n",
      "C:\\Users\\Burak\\anaconda3\\lib\\site-packages\\urllib3\\connectionpool.py:981: InsecureRequestWarning: Unverified HTTPS request is being made to host 'localhost'. Adding certificate verification is strongly advised. See: https://urllib3.readthedocs.io/en/latest/advanced-usage.html#ssl-warnings\n",
      "  warnings.warn(\n",
      "C:\\Users\\Burak\\anaconda3\\lib\\site-packages\\urllib3\\connectionpool.py:981: InsecureRequestWarning: Unverified HTTPS request is being made to host 'localhost'. Adding certificate verification is strongly advised. See: https://urllib3.readthedocs.io/en/latest/advanced-usage.html#ssl-warnings\n",
      "  warnings.warn(\n",
      "127.0.0.1 - - [18/May/2022 19:24:00] \"\u001b[37mPOST /bestjob HTTP/1.1\u001b[0m\" 200 -\n"
     ]
    },
    {
     "name": "stdout",
     "output_type": "stream",
     "text": [
      "{'id': '41ad510c-c702-48c1-bae5-393914f46c99'}\n",
      "yazdırma\n",
      "[{'id': 'ff1a1caa-20dd-4941-85ba-06233014b68d', 'skills': ['Ai', 'Deployment', 'Design', 'Databases', 'Computer science', 'Azure', 'Redis', 'Software', 'Computer vision', 'Mongodb', 'Docker', 'Python', 'Business', 'Api', 'Helm', 'Postgresql', 'Software engineering', 'Django', 'Linux', 'Kubernetes']}, {'id': '902aaf16-30a9-4113-bf07-c1a98e36c2a8', 'skills': ['Kubernetes', 'Python']}, {'id': 'c3af74f8-3d5a-4194-acbf-36c081f0fc66', 'skills': ['React', 'Javascript', 'Typescript', 'Languages', 'Server', 'Python', 'Css', 'Html', 'Git', 'Linux', 'Libraries']}, {'id': 'a86db4a5-8f22-4d16-b05c-48c9c90d2459', 'skills': ['Business', 'Ai', 'Api', 'Design', 'Security', 'Engineering', 'Java', 'Ml', 'Mobile', 'Software', 'Collaboration']}, {'id': '4eee47a9-2201-4533-a705-e99f79148bba', 'skills': ['Business', 'Design', 'Spring', 'Database', 'Security', 'Java', 'Languages', 'Support', 'Time to market', 'Operating system', 'Software', 'Concurrency', 'Algorithms']}, {'id': '925e2255-a059-4980-994a-4420c37d3e09', 'skills': ['Machine learning', 'Databases', 'Workflow', 'Industrial engineering', 'Cassandra', 'Nosql', 'Java', 'Software', 'Security', 'Analytics', 'Bash', 'Data stream', 'Mongodb', 'Sql', 'Data management', 'Solr', 'Python', 'Scala', 'Data processing', 'Hadoop', 'Business', 'Throughput', 'Software engineering', 'Elasticsearch', 'Linux', 'Data quality']}, {'id': '0ea6674a-be8d-44c2-bb6c-23466a9632d5', 'skills': ['Business', 'Ai', 'Api', 'Design', 'Security', 'Engineering', 'Java', 'Ml', 'Mobile', 'Software', 'Collaboration']}, {'id': 'e8ec2a00-f764-43d5-b3ba-b586925d9ab3', 'skills': ['React', 'Npm', 'Pixel', 'Design', 'Engineering', 'Webpack', 'Typescript', 'Es6', 'Server', 'Jira', 'Redis', 'Vuex', 'Git', 'Mongodb', 'Redux', 'Libraries']}, {'id': '597d3af9-7a7d-41d1-b7e2-69096f019a5f', 'skills': ['C', 'Api', 'Design', 'Databases', 'Kubernetes', '.net', 'Comprehension', 'Docker', 'Server', 'Devops', 'Redis', 'Software', 'Framework']}, {'id': '2dfc3279-f2ac-4f47-bccc-e1ac22f8c53f', 'skills': ['Ios', 'Support', 'Android', 'Git', 'Collaboration']}, {'id': '1c7e5a22-3f3b-4f0e-a199-f2bfea6ade8d', 'skills': ['Crm', 'Databases', 'Design', 'Support', 'Mode', 'Finance', 'Software', 'Tableau', 'Workload', 'Analytics', 'Sql', 'Reverse engineering', 'Specification', 'Data warehouse', 'System integration', 'Business', 'Oracle', 'Metadata', 'Database', 'Schedule', 'Data quality']}, {'id': '41ad510c-c702-48c1-bae5-393914f46c99', 'skills': ['Software', 'C', 'Testing', 'Database tools', 'Asp.net', 'Mysql']}]\n"
     ]
    },
    {
     "name": "stderr",
     "output_type": "stream",
     "text": [
      "127.0.0.1 - - [18/May/2022 19:24:17] \"\u001b[37mOPTIONS /bestjob HTTP/1.1\u001b[0m\" 200 -\n",
      "C:\\Users\\Burak\\anaconda3\\lib\\site-packages\\urllib3\\connectionpool.py:981: InsecureRequestWarning: Unverified HTTPS request is being made to host 'localhost'. Adding certificate verification is strongly advised. See: https://urllib3.readthedocs.io/en/latest/advanced-usage.html#ssl-warnings\n",
      "  warnings.warn(\n",
      "C:\\Users\\Burak\\anaconda3\\lib\\site-packages\\urllib3\\connectionpool.py:981: InsecureRequestWarning: Unverified HTTPS request is being made to host 'localhost'. Adding certificate verification is strongly advised. See: https://urllib3.readthedocs.io/en/latest/advanced-usage.html#ssl-warnings\n",
      "  warnings.warn(\n",
      "C:\\Users\\Burak\\anaconda3\\lib\\site-packages\\urllib3\\connectionpool.py:981: InsecureRequestWarning: Unverified HTTPS request is being made to host 'localhost'. Adding certificate verification is strongly advised. See: https://urllib3.readthedocs.io/en/latest/advanced-usage.html#ssl-warnings\n",
      "  warnings.warn(\n",
      "C:\\Users\\Burak\\anaconda3\\lib\\site-packages\\urllib3\\connectionpool.py:981: InsecureRequestWarning: Unverified HTTPS request is being made to host 'localhost'. Adding certificate verification is strongly advised. See: https://urllib3.readthedocs.io/en/latest/advanced-usage.html#ssl-warnings\n",
      "  warnings.warn(\n",
      "127.0.0.1 - - [18/May/2022 19:24:18] \"\u001b[37mPOST /bestjob HTTP/1.1\u001b[0m\" 200 -\n"
     ]
    },
    {
     "name": "stdout",
     "output_type": "stream",
     "text": [
      "{'id': '41ad510c-c702-48c1-bae5-393914f46c99'}\n",
      "yazdırma\n",
      "[{'id': 'ff1a1caa-20dd-4941-85ba-06233014b68d', 'skills': ['Ai', 'Deployment', 'Design', 'Databases', 'Computer science', 'Azure', 'Redis', 'Software', 'Computer vision', 'Mongodb', 'Docker', 'Python', 'Business', 'Api', 'Helm', 'Postgresql', 'Software engineering', 'Django', 'Linux', 'Kubernetes']}, {'id': '902aaf16-30a9-4113-bf07-c1a98e36c2a8', 'skills': ['Kubernetes', 'Python']}, {'id': 'c3af74f8-3d5a-4194-acbf-36c081f0fc66', 'skills': ['React', 'Javascript', 'Typescript', 'Languages', 'Server', 'Python', 'Css', 'Html', 'Git', 'Linux', 'Libraries']}, {'id': 'a86db4a5-8f22-4d16-b05c-48c9c90d2459', 'skills': ['Business', 'Ai', 'Api', 'Design', 'Security', 'Engineering', 'Java', 'Ml', 'Mobile', 'Software', 'Collaboration']}, {'id': '4eee47a9-2201-4533-a705-e99f79148bba', 'skills': ['Business', 'Design', 'Spring', 'Database', 'Security', 'Java', 'Languages', 'Support', 'Time to market', 'Operating system', 'Software', 'Concurrency', 'Algorithms']}, {'id': '925e2255-a059-4980-994a-4420c37d3e09', 'skills': ['Machine learning', 'Databases', 'Workflow', 'Industrial engineering', 'Cassandra', 'Nosql', 'Java', 'Software', 'Security', 'Analytics', 'Bash', 'Data stream', 'Mongodb', 'Sql', 'Data management', 'Solr', 'Python', 'Scala', 'Data processing', 'Hadoop', 'Business', 'Throughput', 'Software engineering', 'Elasticsearch', 'Linux', 'Data quality']}, {'id': '0ea6674a-be8d-44c2-bb6c-23466a9632d5', 'skills': ['Business', 'Ai', 'Api', 'Design', 'Security', 'Engineering', 'Java', 'Ml', 'Mobile', 'Software', 'Collaboration']}, {'id': 'e8ec2a00-f764-43d5-b3ba-b586925d9ab3', 'skills': ['React', 'Npm', 'Pixel', 'Design', 'Engineering', 'Webpack', 'Typescript', 'Es6', 'Server', 'Jira', 'Redis', 'Vuex', 'Git', 'Mongodb', 'Redux', 'Libraries']}, {'id': '597d3af9-7a7d-41d1-b7e2-69096f019a5f', 'skills': ['C', 'Api', 'Design', 'Databases', 'Kubernetes', '.net', 'Comprehension', 'Docker', 'Server', 'Devops', 'Redis', 'Software', 'Framework']}, {'id': '2dfc3279-f2ac-4f47-bccc-e1ac22f8c53f', 'skills': ['Ios', 'Support', 'Android', 'Git', 'Collaboration']}, {'id': '1c7e5a22-3f3b-4f0e-a199-f2bfea6ade8d', 'skills': ['Crm', 'Databases', 'Design', 'Support', 'Mode', 'Finance', 'Software', 'Tableau', 'Workload', 'Analytics', 'Sql', 'Reverse engineering', 'Specification', 'Data warehouse', 'System integration', 'Business', 'Oracle', 'Metadata', 'Database', 'Schedule', 'Data quality']}, {'id': '41ad510c-c702-48c1-bae5-393914f46c99', 'skills': ['Software', 'C', 'Testing', 'Database tools', 'Asp.net', 'Mysql']}]\n"
     ]
    },
    {
     "name": "stderr",
     "output_type": "stream",
     "text": [
      "127.0.0.1 - - [18/May/2022 19:29:21] \"\u001b[37mOPTIONS /bestjob HTTP/1.1\u001b[0m\" 200 -\n"
     ]
    },
    {
     "name": "stdout",
     "output_type": "stream",
     "text": [
      "{'id': '41ad510c-c702-48c1-bae5-393914f46c99'}\n",
      "yazdırma\n",
      "[{'id': 'ff1a1caa-20dd-4941-85ba-06233014b68d', 'skills': ['Ai', 'Deployment', 'Design', 'Databases', 'Computer science', 'Azure', 'Redis', 'Software', 'Computer vision', 'Mongodb', 'Docker', 'Python', 'Business', 'Api', 'Helm', 'Postgresql', 'Software engineering', 'Django', 'Linux', 'Kubernetes']}, {'id': '902aaf16-30a9-4113-bf07-c1a98e36c2a8', 'skills': ['Kubernetes', 'Python']}, {'id': 'c3af74f8-3d5a-4194-acbf-36c081f0fc66', 'skills': ['React', 'Javascript', 'Typescript', 'Languages', 'Server', 'Python', 'Css', 'Html', 'Git', 'Linux', 'Libraries']}, {'id': 'a86db4a5-8f22-4d16-b05c-48c9c90d2459', 'skills': ['Business', 'Ai', 'Api', 'Design', 'Security', 'Engineering', 'Java', 'Ml', 'Mobile', 'Software', 'Collaboration']}, {'id': '4eee47a9-2201-4533-a705-e99f79148bba', 'skills': ['Business', 'Design', 'Spring', 'Database', 'Security', 'Java', 'Languages', 'Support', 'Time to market', 'Operating system', 'Software', 'Concurrency', 'Algorithms']}, {'id': '925e2255-a059-4980-994a-4420c37d3e09', 'skills': ['Machine learning', 'Databases', 'Workflow', 'Industrial engineering', 'Cassandra', 'Nosql', 'Java', 'Software', 'Security', 'Analytics', 'Bash', 'Data stream', 'Mongodb', 'Sql', 'Data management', 'Solr', 'Python', 'Scala', 'Data processing', 'Hadoop', 'Business', 'Throughput', 'Software engineering', 'Elasticsearch', 'Linux', 'Data quality']}, {'id': '0ea6674a-be8d-44c2-bb6c-23466a9632d5', 'skills': ['Business', 'Ai', 'Api', 'Design', 'Security', 'Engineering', 'Java', 'Ml', 'Mobile', 'Software', 'Collaboration']}, {'id': 'e8ec2a00-f764-43d5-b3ba-b586925d9ab3', 'skills': ['React', 'Npm', 'Pixel', 'Design', 'Engineering', 'Webpack', 'Typescript', 'Es6', 'Server', 'Jira', 'Redis', 'Vuex', 'Git', 'Mongodb', 'Redux', 'Libraries']}, {'id': '597d3af9-7a7d-41d1-b7e2-69096f019a5f', 'skills': ['C', 'Api', 'Design', 'Databases', 'Kubernetes', '.net', 'Comprehension', 'Docker', 'Server', 'Devops', 'Redis', 'Software', 'Framework']}, {'id': '2dfc3279-f2ac-4f47-bccc-e1ac22f8c53f', 'skills': ['Ios', 'Support', 'Android', 'Git', 'Collaboration']}, {'id': '1c7e5a22-3f3b-4f0e-a199-f2bfea6ade8d', 'skills': ['Crm', 'Databases', 'Design', 'Support', 'Mode', 'Finance', 'Software', 'Tableau', 'Workload', 'Analytics', 'Sql', 'Reverse engineering', 'Specification', 'Data warehouse', 'System integration', 'Business', 'Oracle', 'Metadata', 'Database', 'Schedule', 'Data quality']}, {'id': '41ad510c-c702-48c1-bae5-393914f46c99', 'skills': ['Software', 'C', 'Testing', 'Database tools', 'Asp.net', 'Mysql']}]\n"
     ]
    },
    {
     "name": "stderr",
     "output_type": "stream",
     "text": [
      "C:\\Users\\Burak\\anaconda3\\lib\\site-packages\\urllib3\\connectionpool.py:981: InsecureRequestWarning: Unverified HTTPS request is being made to host 'localhost'. Adding certificate verification is strongly advised. See: https://urllib3.readthedocs.io/en/latest/advanced-usage.html#ssl-warnings\n",
      "  warnings.warn(\n",
      "C:\\Users\\Burak\\anaconda3\\lib\\site-packages\\urllib3\\connectionpool.py:981: InsecureRequestWarning: Unverified HTTPS request is being made to host 'localhost'. Adding certificate verification is strongly advised. See: https://urllib3.readthedocs.io/en/latest/advanced-usage.html#ssl-warnings\n",
      "  warnings.warn(\n",
      "C:\\Users\\Burak\\anaconda3\\lib\\site-packages\\urllib3\\connectionpool.py:981: InsecureRequestWarning: Unverified HTTPS request is being made to host 'localhost'. Adding certificate verification is strongly advised. See: https://urllib3.readthedocs.io/en/latest/advanced-usage.html#ssl-warnings\n",
      "  warnings.warn(\n",
      "C:\\Users\\Burak\\anaconda3\\lib\\site-packages\\urllib3\\connectionpool.py:981: InsecureRequestWarning: Unverified HTTPS request is being made to host 'localhost'. Adding certificate verification is strongly advised. See: https://urllib3.readthedocs.io/en/latest/advanced-usage.html#ssl-warnings\n",
      "  warnings.warn(\n",
      "127.0.0.1 - - [18/May/2022 19:29:21] \"\u001b[37mPOST /bestjob HTTP/1.1\u001b[0m\" 200 -\n",
      "127.0.0.1 - - [18/May/2022 19:30:35] \"\u001b[37mOPTIONS /bestjob HTTP/1.1\u001b[0m\" 200 -\n",
      "C:\\Users\\Burak\\anaconda3\\lib\\site-packages\\urllib3\\connectionpool.py:981: InsecureRequestWarning: Unverified HTTPS request is being made to host 'localhost'. Adding certificate verification is strongly advised. See: https://urllib3.readthedocs.io/en/latest/advanced-usage.html#ssl-warnings\n",
      "  warnings.warn(\n",
      "C:\\Users\\Burak\\anaconda3\\lib\\site-packages\\urllib3\\connectionpool.py:981: InsecureRequestWarning: Unverified HTTPS request is being made to host 'localhost'. Adding certificate verification is strongly advised. See: https://urllib3.readthedocs.io/en/latest/advanced-usage.html#ssl-warnings\n",
      "  warnings.warn(\n",
      "C:\\Users\\Burak\\anaconda3\\lib\\site-packages\\urllib3\\connectionpool.py:981: InsecureRequestWarning: Unverified HTTPS request is being made to host 'localhost'. Adding certificate verification is strongly advised. See: https://urllib3.readthedocs.io/en/latest/advanced-usage.html#ssl-warnings\n",
      "  warnings.warn(\n",
      "C:\\Users\\Burak\\anaconda3\\lib\\site-packages\\urllib3\\connectionpool.py:981: InsecureRequestWarning: Unverified HTTPS request is being made to host 'localhost'. Adding certificate verification is strongly advised. See: https://urllib3.readthedocs.io/en/latest/advanced-usage.html#ssl-warnings\n",
      "  warnings.warn(\n",
      "127.0.0.1 - - [18/May/2022 19:30:36] \"\u001b[37mPOST /bestjob HTTP/1.1\u001b[0m\" 200 -\n"
     ]
    },
    {
     "name": "stdout",
     "output_type": "stream",
     "text": [
      "{'id': '41ad510c-c702-48c1-bae5-393914f46c99'}\n",
      "yazdırma\n",
      "[{'id': 'ff1a1caa-20dd-4941-85ba-06233014b68d', 'skills': ['Ai', 'Deployment', 'Design', 'Databases', 'Computer science', 'Azure', 'Redis', 'Software', 'Computer vision', 'Mongodb', 'Docker', 'Python', 'Business', 'Api', 'Helm', 'Postgresql', 'Software engineering', 'Django', 'Linux', 'Kubernetes']}, {'id': '902aaf16-30a9-4113-bf07-c1a98e36c2a8', 'skills': ['Kubernetes', 'Python']}, {'id': 'c3af74f8-3d5a-4194-acbf-36c081f0fc66', 'skills': ['React', 'Javascript', 'Typescript', 'Languages', 'Server', 'Python', 'Css', 'Html', 'Git', 'Linux', 'Libraries']}, {'id': 'a86db4a5-8f22-4d16-b05c-48c9c90d2459', 'skills': ['Business', 'Ai', 'Api', 'Design', 'Security', 'Engineering', 'Java', 'Ml', 'Mobile', 'Software', 'Collaboration']}, {'id': '4eee47a9-2201-4533-a705-e99f79148bba', 'skills': ['Business', 'Design', 'Spring', 'Database', 'Security', 'Java', 'Languages', 'Support', 'Time to market', 'Operating system', 'Software', 'Concurrency', 'Algorithms']}, {'id': '925e2255-a059-4980-994a-4420c37d3e09', 'skills': ['Machine learning', 'Databases', 'Workflow', 'Industrial engineering', 'Cassandra', 'Nosql', 'Java', 'Software', 'Security', 'Analytics', 'Bash', 'Data stream', 'Mongodb', 'Sql', 'Data management', 'Solr', 'Python', 'Scala', 'Data processing', 'Hadoop', 'Business', 'Throughput', 'Software engineering', 'Elasticsearch', 'Linux', 'Data quality']}, {'id': '0ea6674a-be8d-44c2-bb6c-23466a9632d5', 'skills': ['Business', 'Ai', 'Api', 'Design', 'Security', 'Engineering', 'Java', 'Ml', 'Mobile', 'Software', 'Collaboration']}, {'id': 'e8ec2a00-f764-43d5-b3ba-b586925d9ab3', 'skills': ['React', 'Npm', 'Pixel', 'Design', 'Engineering', 'Webpack', 'Typescript', 'Es6', 'Server', 'Jira', 'Redis', 'Vuex', 'Git', 'Mongodb', 'Redux', 'Libraries']}, {'id': '597d3af9-7a7d-41d1-b7e2-69096f019a5f', 'skills': ['C', 'Api', 'Design', 'Databases', 'Kubernetes', '.net', 'Comprehension', 'Docker', 'Server', 'Devops', 'Redis', 'Software', 'Framework']}, {'id': '2dfc3279-f2ac-4f47-bccc-e1ac22f8c53f', 'skills': ['Ios', 'Support', 'Android', 'Git', 'Collaboration']}, {'id': '1c7e5a22-3f3b-4f0e-a199-f2bfea6ade8d', 'skills': ['Crm', 'Databases', 'Design', 'Support', 'Mode', 'Finance', 'Software', 'Tableau', 'Workload', 'Analytics', 'Sql', 'Reverse engineering', 'Specification', 'Data warehouse', 'System integration', 'Business', 'Oracle', 'Metadata', 'Database', 'Schedule', 'Data quality']}, {'id': '41ad510c-c702-48c1-bae5-393914f46c99', 'skills': ['Software', 'C', 'Testing', 'Database tools', 'Asp.net', 'Mysql']}]\n"
     ]
    },
    {
     "name": "stderr",
     "output_type": "stream",
     "text": [
      "127.0.0.1 - - [18/May/2022 19:30:46] \"\u001b[37mOPTIONS /bestjob HTTP/1.1\u001b[0m\" 200 -\n",
      "C:\\Users\\Burak\\anaconda3\\lib\\site-packages\\urllib3\\connectionpool.py:981: InsecureRequestWarning: Unverified HTTPS request is being made to host 'localhost'. Adding certificate verification is strongly advised. See: https://urllib3.readthedocs.io/en/latest/advanced-usage.html#ssl-warnings\n",
      "  warnings.warn(\n",
      "C:\\Users\\Burak\\anaconda3\\lib\\site-packages\\urllib3\\connectionpool.py:981: InsecureRequestWarning: Unverified HTTPS request is being made to host 'localhost'. Adding certificate verification is strongly advised. See: https://urllib3.readthedocs.io/en/latest/advanced-usage.html#ssl-warnings\n",
      "  warnings.warn(\n",
      "C:\\Users\\Burak\\anaconda3\\lib\\site-packages\\urllib3\\connectionpool.py:981: InsecureRequestWarning: Unverified HTTPS request is being made to host 'localhost'. Adding certificate verification is strongly advised. See: https://urllib3.readthedocs.io/en/latest/advanced-usage.html#ssl-warnings\n",
      "  warnings.warn(\n",
      "C:\\Users\\Burak\\anaconda3\\lib\\site-packages\\urllib3\\connectionpool.py:981: InsecureRequestWarning: Unverified HTTPS request is being made to host 'localhost'. Adding certificate verification is strongly advised. See: https://urllib3.readthedocs.io/en/latest/advanced-usage.html#ssl-warnings\n",
      "  warnings.warn(\n",
      "127.0.0.1 - - [18/May/2022 19:30:47] \"\u001b[37mPOST /bestjob HTTP/1.1\u001b[0m\" 200 -\n"
     ]
    },
    {
     "name": "stdout",
     "output_type": "stream",
     "text": [
      "{'id': '41ad510c-c702-48c1-bae5-393914f46c99'}\n",
      "yazdırma\n",
      "[{'id': 'ff1a1caa-20dd-4941-85ba-06233014b68d', 'skills': ['Ai', 'Deployment', 'Design', 'Databases', 'Computer science', 'Azure', 'Redis', 'Software', 'Computer vision', 'Mongodb', 'Docker', 'Python', 'Business', 'Api', 'Helm', 'Postgresql', 'Software engineering', 'Django', 'Linux', 'Kubernetes']}, {'id': '902aaf16-30a9-4113-bf07-c1a98e36c2a8', 'skills': ['Kubernetes', 'Python']}, {'id': 'c3af74f8-3d5a-4194-acbf-36c081f0fc66', 'skills': ['React', 'Javascript', 'Typescript', 'Languages', 'Server', 'Python', 'Css', 'Html', 'Git', 'Linux', 'Libraries']}, {'id': 'a86db4a5-8f22-4d16-b05c-48c9c90d2459', 'skills': ['Business', 'Ai', 'Api', 'Design', 'Security', 'Engineering', 'Java', 'Ml', 'Mobile', 'Software', 'Collaboration']}, {'id': '4eee47a9-2201-4533-a705-e99f79148bba', 'skills': ['Business', 'Design', 'Spring', 'Database', 'Security', 'Java', 'Languages', 'Support', 'Time to market', 'Operating system', 'Software', 'Concurrency', 'Algorithms']}, {'id': '925e2255-a059-4980-994a-4420c37d3e09', 'skills': ['Machine learning', 'Databases', 'Workflow', 'Industrial engineering', 'Cassandra', 'Nosql', 'Java', 'Software', 'Security', 'Analytics', 'Bash', 'Data stream', 'Mongodb', 'Sql', 'Data management', 'Solr', 'Python', 'Scala', 'Data processing', 'Hadoop', 'Business', 'Throughput', 'Software engineering', 'Elasticsearch', 'Linux', 'Data quality']}, {'id': '0ea6674a-be8d-44c2-bb6c-23466a9632d5', 'skills': ['Business', 'Ai', 'Api', 'Design', 'Security', 'Engineering', 'Java', 'Ml', 'Mobile', 'Software', 'Collaboration']}, {'id': 'e8ec2a00-f764-43d5-b3ba-b586925d9ab3', 'skills': ['React', 'Npm', 'Pixel', 'Design', 'Engineering', 'Webpack', 'Typescript', 'Es6', 'Server', 'Jira', 'Redis', 'Vuex', 'Git', 'Mongodb', 'Redux', 'Libraries']}, {'id': '597d3af9-7a7d-41d1-b7e2-69096f019a5f', 'skills': ['C', 'Api', 'Design', 'Databases', 'Kubernetes', '.net', 'Comprehension', 'Docker', 'Server', 'Devops', 'Redis', 'Software', 'Framework']}, {'id': '2dfc3279-f2ac-4f47-bccc-e1ac22f8c53f', 'skills': ['Ios', 'Support', 'Android', 'Git', 'Collaboration']}, {'id': '1c7e5a22-3f3b-4f0e-a199-f2bfea6ade8d', 'skills': ['Crm', 'Databases', 'Design', 'Support', 'Mode', 'Finance', 'Software', 'Tableau', 'Workload', 'Analytics', 'Sql', 'Reverse engineering', 'Specification', 'Data warehouse', 'System integration', 'Business', 'Oracle', 'Metadata', 'Database', 'Schedule', 'Data quality']}, {'id': '41ad510c-c702-48c1-bae5-393914f46c99', 'skills': ['Software', 'C', 'Testing', 'Database tools', 'Asp.net', 'Mysql']}]\n"
     ]
    },
    {
     "name": "stderr",
     "output_type": "stream",
     "text": [
      "127.0.0.1 - - [18/May/2022 19:31:20] \"\u001b[37mOPTIONS /bestjob HTTP/1.1\u001b[0m\" 200 -\n",
      "C:\\Users\\Burak\\anaconda3\\lib\\site-packages\\urllib3\\connectionpool.py:981: InsecureRequestWarning: Unverified HTTPS request is being made to host 'localhost'. Adding certificate verification is strongly advised. See: https://urllib3.readthedocs.io/en/latest/advanced-usage.html#ssl-warnings\n",
      "  warnings.warn(\n",
      "C:\\Users\\Burak\\anaconda3\\lib\\site-packages\\urllib3\\connectionpool.py:981: InsecureRequestWarning: Unverified HTTPS request is being made to host 'localhost'. Adding certificate verification is strongly advised. See: https://urllib3.readthedocs.io/en/latest/advanced-usage.html#ssl-warnings\n",
      "  warnings.warn(\n",
      "C:\\Users\\Burak\\anaconda3\\lib\\site-packages\\urllib3\\connectionpool.py:981: InsecureRequestWarning: Unverified HTTPS request is being made to host 'localhost'. Adding certificate verification is strongly advised. See: https://urllib3.readthedocs.io/en/latest/advanced-usage.html#ssl-warnings\n",
      "  warnings.warn(\n",
      "C:\\Users\\Burak\\anaconda3\\lib\\site-packages\\urllib3\\connectionpool.py:981: InsecureRequestWarning: Unverified HTTPS request is being made to host 'localhost'. Adding certificate verification is strongly advised. See: https://urllib3.readthedocs.io/en/latest/advanced-usage.html#ssl-warnings\n",
      "  warnings.warn(\n",
      "127.0.0.1 - - [18/May/2022 19:31:20] \"\u001b[37mPOST /bestjob HTTP/1.1\u001b[0m\" 200 -\n"
     ]
    },
    {
     "name": "stdout",
     "output_type": "stream",
     "text": [
      "{'id': '41ad510c-c702-48c1-bae5-393914f46c99'}\n",
      "yazdırma\n",
      "[{'id': 'ff1a1caa-20dd-4941-85ba-06233014b68d', 'skills': ['Ai', 'Deployment', 'Design', 'Databases', 'Computer science', 'Azure', 'Redis', 'Software', 'Computer vision', 'Mongodb', 'Docker', 'Python', 'Business', 'Api', 'Helm', 'Postgresql', 'Software engineering', 'Django', 'Linux', 'Kubernetes']}, {'id': '902aaf16-30a9-4113-bf07-c1a98e36c2a8', 'skills': ['Kubernetes', 'Python']}, {'id': 'c3af74f8-3d5a-4194-acbf-36c081f0fc66', 'skills': ['React', 'Javascript', 'Typescript', 'Languages', 'Server', 'Python', 'Css', 'Html', 'Git', 'Linux', 'Libraries']}, {'id': 'a86db4a5-8f22-4d16-b05c-48c9c90d2459', 'skills': ['Business', 'Ai', 'Api', 'Design', 'Security', 'Engineering', 'Java', 'Ml', 'Mobile', 'Software', 'Collaboration']}, {'id': '4eee47a9-2201-4533-a705-e99f79148bba', 'skills': ['Business', 'Design', 'Spring', 'Database', 'Security', 'Java', 'Languages', 'Support', 'Time to market', 'Operating system', 'Software', 'Concurrency', 'Algorithms']}, {'id': '925e2255-a059-4980-994a-4420c37d3e09', 'skills': ['Machine learning', 'Databases', 'Workflow', 'Industrial engineering', 'Cassandra', 'Nosql', 'Java', 'Software', 'Security', 'Analytics', 'Bash', 'Data stream', 'Mongodb', 'Sql', 'Data management', 'Solr', 'Python', 'Scala', 'Data processing', 'Hadoop', 'Business', 'Throughput', 'Software engineering', 'Elasticsearch', 'Linux', 'Data quality']}, {'id': '0ea6674a-be8d-44c2-bb6c-23466a9632d5', 'skills': ['Business', 'Ai', 'Api', 'Design', 'Security', 'Engineering', 'Java', 'Ml', 'Mobile', 'Software', 'Collaboration']}, {'id': 'e8ec2a00-f764-43d5-b3ba-b586925d9ab3', 'skills': ['React', 'Npm', 'Pixel', 'Design', 'Engineering', 'Webpack', 'Typescript', 'Es6', 'Server', 'Jira', 'Redis', 'Vuex', 'Git', 'Mongodb', 'Redux', 'Libraries']}, {'id': '597d3af9-7a7d-41d1-b7e2-69096f019a5f', 'skills': ['C', 'Api', 'Design', 'Databases', 'Kubernetes', '.net', 'Comprehension', 'Docker', 'Server', 'Devops', 'Redis', 'Software', 'Framework']}, {'id': '2dfc3279-f2ac-4f47-bccc-e1ac22f8c53f', 'skills': ['Ios', 'Support', 'Android', 'Git', 'Collaboration']}, {'id': '1c7e5a22-3f3b-4f0e-a199-f2bfea6ade8d', 'skills': ['Crm', 'Databases', 'Design', 'Support', 'Mode', 'Finance', 'Software', 'Tableau', 'Workload', 'Analytics', 'Sql', 'Reverse engineering', 'Specification', 'Data warehouse', 'System integration', 'Business', 'Oracle', 'Metadata', 'Database', 'Schedule', 'Data quality']}, {'id': '41ad510c-c702-48c1-bae5-393914f46c99', 'skills': ['Software', 'C', 'Testing', 'Database tools', 'Asp.net', 'Mysql']}]\n"
     ]
    },
    {
     "name": "stderr",
     "output_type": "stream",
     "text": [
      "127.0.0.1 - - [18/May/2022 19:31:38] \"\u001b[37mOPTIONS /bestjob HTTP/1.1\u001b[0m\" 200 -\n",
      "C:\\Users\\Burak\\anaconda3\\lib\\site-packages\\urllib3\\connectionpool.py:981: InsecureRequestWarning: Unverified HTTPS request is being made to host 'localhost'. Adding certificate verification is strongly advised. See: https://urllib3.readthedocs.io/en/latest/advanced-usage.html#ssl-warnings\n",
      "  warnings.warn(\n",
      "C:\\Users\\Burak\\anaconda3\\lib\\site-packages\\urllib3\\connectionpool.py:981: InsecureRequestWarning: Unverified HTTPS request is being made to host 'localhost'. Adding certificate verification is strongly advised. See: https://urllib3.readthedocs.io/en/latest/advanced-usage.html#ssl-warnings\n",
      "  warnings.warn(\n",
      "C:\\Users\\Burak\\anaconda3\\lib\\site-packages\\urllib3\\connectionpool.py:981: InsecureRequestWarning: Unverified HTTPS request is being made to host 'localhost'. Adding certificate verification is strongly advised. See: https://urllib3.readthedocs.io/en/latest/advanced-usage.html#ssl-warnings\n",
      "  warnings.warn(\n",
      "C:\\Users\\Burak\\anaconda3\\lib\\site-packages\\urllib3\\connectionpool.py:981: InsecureRequestWarning: Unverified HTTPS request is being made to host 'localhost'. Adding certificate verification is strongly advised. See: https://urllib3.readthedocs.io/en/latest/advanced-usage.html#ssl-warnings\n",
      "  warnings.warn(\n",
      "127.0.0.1 - - [18/May/2022 19:31:39] \"\u001b[37mPOST /bestjob HTTP/1.1\u001b[0m\" 200 -\n"
     ]
    },
    {
     "name": "stdout",
     "output_type": "stream",
     "text": [
      "{'id': '41ad510c-c702-48c1-bae5-393914f46c99'}\n",
      "yazdırma\n",
      "[{'id': 'ff1a1caa-20dd-4941-85ba-06233014b68d', 'skills': ['Ai', 'Deployment', 'Design', 'Databases', 'Computer science', 'Azure', 'Redis', 'Software', 'Computer vision', 'Mongodb', 'Docker', 'Python', 'Business', 'Api', 'Helm', 'Postgresql', 'Software engineering', 'Django', 'Linux', 'Kubernetes']}, {'id': '902aaf16-30a9-4113-bf07-c1a98e36c2a8', 'skills': ['Kubernetes', 'Python']}, {'id': 'c3af74f8-3d5a-4194-acbf-36c081f0fc66', 'skills': ['React', 'Javascript', 'Typescript', 'Languages', 'Server', 'Python', 'Css', 'Html', 'Git', 'Linux', 'Libraries']}, {'id': 'a86db4a5-8f22-4d16-b05c-48c9c90d2459', 'skills': ['Business', 'Ai', 'Api', 'Design', 'Security', 'Engineering', 'Java', 'Ml', 'Mobile', 'Software', 'Collaboration']}, {'id': '4eee47a9-2201-4533-a705-e99f79148bba', 'skills': ['Business', 'Design', 'Spring', 'Database', 'Security', 'Java', 'Languages', 'Support', 'Time to market', 'Operating system', 'Software', 'Concurrency', 'Algorithms']}, {'id': '925e2255-a059-4980-994a-4420c37d3e09', 'skills': ['Machine learning', 'Databases', 'Workflow', 'Industrial engineering', 'Cassandra', 'Nosql', 'Java', 'Software', 'Security', 'Analytics', 'Bash', 'Data stream', 'Mongodb', 'Sql', 'Data management', 'Solr', 'Python', 'Scala', 'Data processing', 'Hadoop', 'Business', 'Throughput', 'Software engineering', 'Elasticsearch', 'Linux', 'Data quality']}, {'id': '0ea6674a-be8d-44c2-bb6c-23466a9632d5', 'skills': ['Business', 'Ai', 'Api', 'Design', 'Security', 'Engineering', 'Java', 'Ml', 'Mobile', 'Software', 'Collaboration']}, {'id': 'e8ec2a00-f764-43d5-b3ba-b586925d9ab3', 'skills': ['React', 'Npm', 'Pixel', 'Design', 'Engineering', 'Webpack', 'Typescript', 'Es6', 'Server', 'Jira', 'Redis', 'Vuex', 'Git', 'Mongodb', 'Redux', 'Libraries']}, {'id': '597d3af9-7a7d-41d1-b7e2-69096f019a5f', 'skills': ['C', 'Api', 'Design', 'Databases', 'Kubernetes', '.net', 'Comprehension', 'Docker', 'Server', 'Devops', 'Redis', 'Software', 'Framework']}, {'id': '2dfc3279-f2ac-4f47-bccc-e1ac22f8c53f', 'skills': ['Ios', 'Support', 'Android', 'Git', 'Collaboration']}, {'id': '1c7e5a22-3f3b-4f0e-a199-f2bfea6ade8d', 'skills': ['Crm', 'Databases', 'Design', 'Support', 'Mode', 'Finance', 'Software', 'Tableau', 'Workload', 'Analytics', 'Sql', 'Reverse engineering', 'Specification', 'Data warehouse', 'System integration', 'Business', 'Oracle', 'Metadata', 'Database', 'Schedule', 'Data quality']}, {'id': '41ad510c-c702-48c1-bae5-393914f46c99', 'skills': ['Software', 'C', 'Testing', 'Database tools', 'Asp.net', 'Mysql']}]\n"
     ]
    },
    {
     "name": "stderr",
     "output_type": "stream",
     "text": [
      "127.0.0.1 - - [18/May/2022 19:38:59] \"\u001b[37mOPTIONS /bestjob HTTP/1.1\u001b[0m\" 200 -\n",
      "C:\\Users\\Burak\\anaconda3\\lib\\site-packages\\urllib3\\connectionpool.py:981: InsecureRequestWarning: Unverified HTTPS request is being made to host 'localhost'. Adding certificate verification is strongly advised. See: https://urllib3.readthedocs.io/en/latest/advanced-usage.html#ssl-warnings\n",
      "  warnings.warn(\n",
      "C:\\Users\\Burak\\anaconda3\\lib\\site-packages\\urllib3\\connectionpool.py:981: InsecureRequestWarning: Unverified HTTPS request is being made to host 'localhost'. Adding certificate verification is strongly advised. See: https://urllib3.readthedocs.io/en/latest/advanced-usage.html#ssl-warnings\n",
      "  warnings.warn(\n",
      "C:\\Users\\Burak\\anaconda3\\lib\\site-packages\\urllib3\\connectionpool.py:981: InsecureRequestWarning: Unverified HTTPS request is being made to host 'localhost'. Adding certificate verification is strongly advised. See: https://urllib3.readthedocs.io/en/latest/advanced-usage.html#ssl-warnings\n",
      "  warnings.warn(\n",
      "C:\\Users\\Burak\\anaconda3\\lib\\site-packages\\urllib3\\connectionpool.py:981: InsecureRequestWarning: Unverified HTTPS request is being made to host 'localhost'. Adding certificate verification is strongly advised. See: https://urllib3.readthedocs.io/en/latest/advanced-usage.html#ssl-warnings\n",
      "  warnings.warn(\n",
      "127.0.0.1 - - [18/May/2022 19:39:00] \"\u001b[37mPOST /bestjob HTTP/1.1\u001b[0m\" 200 -\n"
     ]
    },
    {
     "name": "stdout",
     "output_type": "stream",
     "text": [
      "{'id': '41ad510c-c702-48c1-bae5-393914f46c99'}\n",
      "yazdırma\n",
      "[{'id': 'ff1a1caa-20dd-4941-85ba-06233014b68d', 'skills': ['Ai', 'Deployment', 'Design', 'Databases', 'Computer science', 'Azure', 'Redis', 'Software', 'Computer vision', 'Mongodb', 'Docker', 'Python', 'Business', 'Api', 'Helm', 'Postgresql', 'Software engineering', 'Django', 'Linux', 'Kubernetes']}, {'id': '902aaf16-30a9-4113-bf07-c1a98e36c2a8', 'skills': ['Kubernetes', 'Python']}, {'id': 'c3af74f8-3d5a-4194-acbf-36c081f0fc66', 'skills': ['React', 'Javascript', 'Typescript', 'Languages', 'Server', 'Python', 'Css', 'Html', 'Git', 'Linux', 'Libraries']}, {'id': 'a86db4a5-8f22-4d16-b05c-48c9c90d2459', 'skills': ['Business', 'Ai', 'Api', 'Design', 'Security', 'Engineering', 'Java', 'Ml', 'Mobile', 'Software', 'Collaboration']}, {'id': '4eee47a9-2201-4533-a705-e99f79148bba', 'skills': ['Business', 'Design', 'Spring', 'Database', 'Security', 'Java', 'Languages', 'Support', 'Time to market', 'Operating system', 'Software', 'Concurrency', 'Algorithms']}, {'id': '925e2255-a059-4980-994a-4420c37d3e09', 'skills': ['Machine learning', 'Databases', 'Workflow', 'Industrial engineering', 'Cassandra', 'Nosql', 'Java', 'Software', 'Security', 'Analytics', 'Bash', 'Data stream', 'Mongodb', 'Sql', 'Data management', 'Solr', 'Python', 'Scala', 'Data processing', 'Hadoop', 'Business', 'Throughput', 'Software engineering', 'Elasticsearch', 'Linux', 'Data quality']}, {'id': '0ea6674a-be8d-44c2-bb6c-23466a9632d5', 'skills': ['Business', 'Ai', 'Api', 'Design', 'Security', 'Engineering', 'Java', 'Ml', 'Mobile', 'Software', 'Collaboration']}, {'id': 'e8ec2a00-f764-43d5-b3ba-b586925d9ab3', 'skills': ['React', 'Npm', 'Pixel', 'Design', 'Engineering', 'Webpack', 'Typescript', 'Es6', 'Server', 'Jira', 'Redis', 'Vuex', 'Git', 'Mongodb', 'Redux', 'Libraries']}, {'id': '597d3af9-7a7d-41d1-b7e2-69096f019a5f', 'skills': ['C', 'Api', 'Design', 'Databases', 'Kubernetes', '.net', 'Comprehension', 'Docker', 'Server', 'Devops', 'Redis', 'Software', 'Framework']}, {'id': '2dfc3279-f2ac-4f47-bccc-e1ac22f8c53f', 'skills': ['Ios', 'Support', 'Android', 'Git', 'Collaboration']}, {'id': '1c7e5a22-3f3b-4f0e-a199-f2bfea6ade8d', 'skills': ['Crm', 'Databases', 'Design', 'Support', 'Mode', 'Finance', 'Software', 'Tableau', 'Workload', 'Analytics', 'Sql', 'Reverse engineering', 'Specification', 'Data warehouse', 'System integration', 'Business', 'Oracle', 'Metadata', 'Database', 'Schedule', 'Data quality']}, {'id': '41ad510c-c702-48c1-bae5-393914f46c99', 'skills': ['Software', 'C', 'Testing', 'Database tools', 'Asp.net', 'Mysql']}]\n"
     ]
    },
    {
     "name": "stderr",
     "output_type": "stream",
     "text": [
      "127.0.0.1 - - [18/May/2022 20:15:17] \"\u001b[37mOPTIONS /resumeparser HTTP/1.1\u001b[0m\" 200 -\n"
     ]
    },
    {
     "name": "stdout",
     "output_type": "stream",
     "text": [
      "{'description': 'What are the Required Qualifications?\\n\\n\\n• Graduated from Computer Engineering or related engineering departments of universities\\n\\n• Minimum 2 years experience in .NET technologies\\n\\n• Capable of analytical thinking and problem solving\\n\\n• Knowledge / experience with Agile Software Development (Agile / SCRUM) methodologies\\n\\n• Web-based application development experience with ASP.NET, ASP.NET MVC, C # and .NET Technologies\\n\\n• Knowledge of software architectures such as n-tier architecture, Solid Principles and design patterns\\n\\n• Experienced in SOAP and Restful Web Service Technologies\\n\\n• Having SQL knowledge and experience (SQL / TSQL)\\n\\n• Speaking English at a level that can follow the technical literature and correspond to foreign operation users.\\n\\n• We are looking for teammates who are researchers and open to development, prone to teamwork, innovative and result oriented.'}\n",
      "b'{\"description\":\"What are the Required Qualifications?\\\\n\\\\n\\\\n\\xe2\\x80\\xa2 Graduated from Computer Engineering or related engineering departments of universities\\\\n\\\\n\\xe2\\x80\\xa2 Minimum 2 years experience in .NET technologies\\\\n\\\\n\\xe2\\x80\\xa2 Capable of analytical thinking and problem solving\\\\n\\\\n\\xe2\\x80\\xa2 Knowledge / experience with Agile Software Development (Agile / SCRUM) methodologies\\\\n\\\\n\\xe2\\x80\\xa2 Web-based application development experience with ASP.NET, ASP.NET MVC, C # and .NET Technologies\\\\n\\\\n\\xe2\\x80\\xa2 Knowledge of software architectures such as n-tier architecture, Solid Principles and design patterns\\\\n\\\\n\\xe2\\x80\\xa2 Experienced in SOAP and Restful Web Service Technologies\\\\n\\\\n\\xe2\\x80\\xa2 Having SQL knowledge and experience (SQL / TSQL)\\\\n\\\\n\\xe2\\x80\\xa2 Speaking English at a level that can follow the technical literature and correspond to foreign operation users.\\\\n\\\\n\\xe2\\x80\\xa2 We are looking for teammates who are researchers and open to development, prone to teamwork, innovative and result oriented.\"}'\n"
     ]
    },
    {
     "name": "stderr",
     "output_type": "stream",
     "text": [
      "127.0.0.1 - - [18/May/2022 20:15:19] \"\u001b[37mPOST /resumeparser HTTP/1.1\u001b[0m\" 200 -\n"
     ]
    },
    {
     "name": "stdout",
     "output_type": "stream",
     "text": [
      "{'personname': 'Required Qualifications', 'skills': ['Design', 'C', 'Asp.net', 'Software', 'Sql', 'Engineering', '.net']}\n"
     ]
    },
    {
     "name": "stderr",
     "output_type": "stream",
     "text": [
      "127.0.0.1 - - [18/May/2022 20:16:21] \"\u001b[37mOPTIONS /resumeparser HTTP/1.1\u001b[0m\" 200 -\n"
     ]
    },
    {
     "name": "stdout",
     "output_type": "stream",
     "text": [
      "{'description': 'What are the Required Qualifications?\\n\\n\\n• Graduated from Computer Engineering or related engineering departments of universities\\n\\n• Minimum 2 years experience in .NET technologies\\n\\n• Capable of analytical thinking and problem solving\\n\\n• Knowledge / experience with Agile Software Development (Agile / SCRUM) methodologies\\n\\n• Web-based application development experience with ASP.NET, ASP.NET MVC, C # and .NET Technologies\\n\\n• Knowledge of software architectures such as n-tier architecture, Solid Principles and design patterns\\n\\n• Experienced in SOAP and Restful Web Service Technologies\\n\\n• Having SQL knowledge and experience (SQL / TSQL)\\n\\n• Speaking English at a level that can follow the technical literature and correspond to foreign operation users.\\n\\n• We are looking for teammates who are researchers and open to development, prone to teamwork, innovative and result oriented.'}\n",
      "b'{\"description\":\"What are the Required Qualifications?\\\\n\\\\n\\\\n\\xe2\\x80\\xa2 Graduated from Computer Engineering or related engineering departments of universities\\\\n\\\\n\\xe2\\x80\\xa2 Minimum 2 years experience in .NET technologies\\\\n\\\\n\\xe2\\x80\\xa2 Capable of analytical thinking and problem solving\\\\n\\\\n\\xe2\\x80\\xa2 Knowledge / experience with Agile Software Development (Agile / SCRUM) methodologies\\\\n\\\\n\\xe2\\x80\\xa2 Web-based application development experience with ASP.NET, ASP.NET MVC, C # and .NET Technologies\\\\n\\\\n\\xe2\\x80\\xa2 Knowledge of software architectures such as n-tier architecture, Solid Principles and design patterns\\\\n\\\\n\\xe2\\x80\\xa2 Experienced in SOAP and Restful Web Service Technologies\\\\n\\\\n\\xe2\\x80\\xa2 Having SQL knowledge and experience (SQL / TSQL)\\\\n\\\\n\\xe2\\x80\\xa2 Speaking English at a level that can follow the technical literature and correspond to foreign operation users.\\\\n\\\\n\\xe2\\x80\\xa2 We are looking for teammates who are researchers and open to development, prone to teamwork, innovative and result oriented.\"}'\n"
     ]
    },
    {
     "name": "stderr",
     "output_type": "stream",
     "text": [
      "127.0.0.1 - - [18/May/2022 20:16:23] \"\u001b[37mPOST /resumeparser HTTP/1.1\u001b[0m\" 200 -\n"
     ]
    },
    {
     "name": "stdout",
     "output_type": "stream",
     "text": [
      "{'personname': 'Required Qualifications', 'skills': ['Design', 'C', 'Asp.net', 'Software', 'Sql', 'Engineering', '.net']}\n"
     ]
    },
    {
     "name": "stderr",
     "output_type": "stream",
     "text": [
      "127.0.0.1 - - [18/May/2022 20:18:25] \"\u001b[37mOPTIONS /resumeparser HTTP/1.1\u001b[0m\" 200 -\n"
     ]
    },
    {
     "name": "stdout",
     "output_type": "stream",
     "text": [
      "{'description': 'What are the Required Qualifications?\\n\\n\\n• Graduated from Computer Engineering or related engineering departments of universities\\n\\n• Minimum 2 years experience in .NET technologies\\n\\n• Capable of analytical thinking and problem solving\\n\\n• Knowledge / experience with Agile Software Development (Agile / SCRUM) methodologies\\n\\n• Web-based application development experience with ASP.NET, ASP.NET MVC, C # and .NET Technologies\\n\\n• Knowledge of software architectures such as n-tier architecture, Solid Principles and design patterns\\n\\n• Experienced in SOAP and Restful Web Service Technologies\\n\\n• Having SQL knowledge and experience (SQL / TSQL)\\n\\n• Speaking English at a level that can follow the technical literature and correspond to foreign operation users.\\n\\n• We are looking for teammates who are researchers and open to development, prone to teamwork, innovative and result oriented.'}\n",
      "b'{\"description\":\"What are the Required Qualifications?\\\\n\\\\n\\\\n\\xe2\\x80\\xa2 Graduated from Computer Engineering or related engineering departments of universities\\\\n\\\\n\\xe2\\x80\\xa2 Minimum 2 years experience in .NET technologies\\\\n\\\\n\\xe2\\x80\\xa2 Capable of analytical thinking and problem solving\\\\n\\\\n\\xe2\\x80\\xa2 Knowledge / experience with Agile Software Development (Agile / SCRUM) methodologies\\\\n\\\\n\\xe2\\x80\\xa2 Web-based application development experience with ASP.NET, ASP.NET MVC, C # and .NET Technologies\\\\n\\\\n\\xe2\\x80\\xa2 Knowledge of software architectures such as n-tier architecture, Solid Principles and design patterns\\\\n\\\\n\\xe2\\x80\\xa2 Experienced in SOAP and Restful Web Service Technologies\\\\n\\\\n\\xe2\\x80\\xa2 Having SQL knowledge and experience (SQL / TSQL)\\\\n\\\\n\\xe2\\x80\\xa2 Speaking English at a level that can follow the technical literature and correspond to foreign operation users.\\\\n\\\\n\\xe2\\x80\\xa2 We are looking for teammates who are researchers and open to development, prone to teamwork, innovative and result oriented.\"}'\n"
     ]
    },
    {
     "name": "stderr",
     "output_type": "stream",
     "text": [
      "127.0.0.1 - - [18/May/2022 20:18:27] \"\u001b[37mPOST /resumeparser HTTP/1.1\u001b[0m\" 200 -\n"
     ]
    },
    {
     "name": "stdout",
     "output_type": "stream",
     "text": [
      "{'personname': 'Required Qualifications', 'skills': ['Design', 'C', 'Asp.net', 'Software', 'Sql', 'Engineering', '.net']}\n"
     ]
    },
    {
     "name": "stderr",
     "output_type": "stream",
     "text": [
      "127.0.0.1 - - [18/May/2022 20:19:01] \"\u001b[37mOPTIONS /resumeparser HTTP/1.1\u001b[0m\" 200 -\n"
     ]
    },
    {
     "name": "stdout",
     "output_type": "stream",
     "text": [
      "{'description': 'What Makes You A Perfect Fit\\n\\n\\n• BS or MS in Computer Engineering, Software Engineering etc.,\\n\\n• Designing, developing and maintaining software applications, user interfaces and relational\\n\\ndatabases\\n\\n• 3+ years of professional experience in software development\\n\\n• Experience with JAVA, HTML, CSS and STEP / ARK framework knowledge\\n\\n• Experience with Coolgen, COBOL, PL1 development knowledge\\n\\n• Experience with .NET development is a plus\\n\\n• Experience with DB2 ,MS SQL Server/Oracle is a must\\n\\n• Advanced SQL Knowledge\\n\\n• Strong debugging skills and proven ability to quickly understand and review other’s code\\n\\n• Strong analytical thinking, problem solving and decision making skills\\n\\n• Good command of written and spoken English.'}\n",
      "b'{\"description\":\"What Makes You A Perfect Fit\\\\n\\\\n\\\\n\\xe2\\x80\\xa2 BS or MS in Computer Engineering, Software Engineering etc.,\\\\n\\\\n\\xe2\\x80\\xa2 Designing, developing and maintaining software applications, user interfaces and relational\\\\n\\\\ndatabases\\\\n\\\\n\\xe2\\x80\\xa2 3+ years of professional experience in software development\\\\n\\\\n\\xe2\\x80\\xa2 Experience with JAVA, HTML, CSS and STEP / ARK framework knowledge\\\\n\\\\n\\xe2\\x80\\xa2 Experience with Coolgen, COBOL, PL1 development knowledge\\\\n\\\\n\\xe2\\x80\\xa2 Experience with .NET development is a plus\\\\n\\\\n\\xe2\\x80\\xa2 Experience with DB2 ,MS SQL Server/Oracle is a must\\\\n\\\\n\\xe2\\x80\\xa2 Advanced SQL Knowledge\\\\n\\\\n\\xe2\\x80\\xa2 Strong debugging skills and proven ability to quickly understand and review other\\xe2\\x80\\x99s code\\\\n\\\\n\\xe2\\x80\\xa2 Strong analytical thinking, problem solving and decision making skills\\\\n\\\\n\\xe2\\x80\\xa2 Good command of written and spoken English.\"}'\n"
     ]
    },
    {
     "name": "stderr",
     "output_type": "stream",
     "text": [
      "127.0.0.1 - - [18/May/2022 20:19:03] \"\u001b[37mPOST /resumeparser HTTP/1.1\u001b[0m\" 200 -\n"
     ]
    },
    {
     "name": "stdout",
     "output_type": "stream",
     "text": [
      "{'personname': 'Perfect Fit', 'skills': ['Server', 'Debugging', 'Cobol', 'Computer engineering', 'Css', 'Java', 'Oracle', 'Software', '.net', 'Software engineering', 'Databases', 'Framework', 'Html']}\n"
     ]
    },
    {
     "name": "stderr",
     "output_type": "stream",
     "text": [
      "127.0.0.1 - - [18/May/2022 20:19:14] \"\u001b[37mOPTIONS /resumeparser HTTP/1.1\u001b[0m\" 200 -\n"
     ]
    },
    {
     "name": "stdout",
     "output_type": "stream",
     "text": [
      "{'description': 'Qualifications:\\n\\nMinimum Bachelor’s degree in Computer Engineering / Informatics /Electrical & Electronics Engineering, and preferably MSc and/or PhD qualifications\\nMinimum 2 years of experience in software development\\nFluent speaking and excellent writing skills in English\\nWillingness to frequent and long-term travel abroad\\nAnd a solid understanding of the following topics\\n\\nObject Oriented Programming (using at least one of the following languages: C#, Java, Python, C++)\\nWeb application development (JavaScript, AngularJS)\\nAlgorithms & Data Structures, Databases (MongoDB or MS SQL)\\nAgile/SCRUM development process\\nVersion Control (GiT or SVN)'}\n",
      "b'{\"description\":\"Qualifications:\\\\n\\\\nMinimum Bachelor\\xe2\\x80\\x99s degree in Computer Engineering / Informatics /Electrical & Electronics Engineering, and preferably MSc and/or PhD qualifications\\\\nMinimum 2 years of experience in software development\\\\nFluent speaking and excellent writing skills in English\\\\nWillingness to frequent and long-term travel abroad\\\\nAnd a solid understanding of the following topics\\\\n\\\\nObject Oriented Programming (using at least one of the following languages: C#, Java, Python, C++)\\\\nWeb application development (JavaScript, AngularJS)\\\\nAlgorithms & Data Structures, Databases (MongoDB or MS SQL)\\\\nAgile/SCRUM development process\\\\nVersion Control (GiT or SVN)\"}'\n"
     ]
    },
    {
     "name": "stderr",
     "output_type": "stream",
     "text": [
      "127.0.0.1 - - [18/May/2022 20:19:16] \"\u001b[37mPOST /resumeparser HTTP/1.1\u001b[0m\" 200 -\n"
     ]
    },
    {
     "name": "stdout",
     "output_type": "stream",
     "text": [
      "{'personname': 'Minimum Bachelor', 'skills': ['C', 'Git', 'Angularjs', 'Java', 'Languages', 'Software', 'C++', 'Data structures', 'Mongodb', 'Javascript', 'Python', 'Databases', 'Algorithms']}\n"
     ]
    },
    {
     "name": "stderr",
     "output_type": "stream",
     "text": [
      "127.0.0.1 - - [18/May/2022 20:19:25] \"\u001b[37mOPTIONS /resumeparser HTTP/1.1\u001b[0m\" 200 -\n"
     ]
    },
    {
     "name": "stdout",
     "output_type": "stream",
     "text": [
      "{'description': \"What Makes You A Perfect Fit\\n\\n\\n· BS or MS in Computer Engineering, Software Engineering or related fields.\\n\\n· At least 2 years of software or data development experience,\\n\\n· Excellent SQL skills and SQL performance tuning knowledge,\\n\\n· Experience with ETL Tools (ODI), PL/SQL, BI Tools (Oracle BI, Qlik) and Data Quality concepts,\\n\\n· Experience with Batch Programming (PL/1, COBOL, JCL, DB2) is a plus,\\n\\n· Knowledge of Linux systems, Python and Bash programming is a plus,\\n\\n· Strong debugging skills and the proven ability to quickly understand other developers' code,\\n\\n· Demonstrated ability to deliver high quality software,\\n\\n· Knowledge of the agile software development life-cycle and agile methodologies\\n\\n· Knowledge and experience with Continuous Integration, Continuous Build and Continuous Deployment Practice, Tools and trends\\n\\n\"}\n",
      "b'{\"description\":\"What Makes You A Perfect Fit\\\\n\\\\n\\\\n\\xc2\\xb7 BS or MS in Computer Engineering, Software Engineering or related fields.\\\\n\\\\n\\xc2\\xb7 At least 2 years of software or data development experience,\\\\n\\\\n\\xc2\\xb7 Excellent SQL skills and SQL performance tuning knowledge,\\\\n\\\\n\\xc2\\xb7 Experience with ETL Tools (ODI), PL/SQL, BI Tools (Oracle BI, Qlik) and Data Quality concepts,\\\\n\\\\n\\xc2\\xb7 Experience with Batch Programming (PL/1, COBOL, JCL, DB2) is a plus,\\\\n\\\\n\\xc2\\xb7 Knowledge of Linux systems, Python and Bash programming is a plus,\\\\n\\\\n\\xc2\\xb7 Strong debugging skills and the proven ability to quickly understand other developers\\' code,\\\\n\\\\n\\xc2\\xb7 Demonstrated ability to deliver high quality software,\\\\n\\\\n\\xc2\\xb7 Knowledge of the agile software development life-cycle and agile methodologies\\\\n\\\\n\\xc2\\xb7 Knowledge and experience with Continuous Integration, Continuous Build and Continuous Deployment Practice, Tools and trends\\\\n\\\\n\"}'\n"
     ]
    },
    {
     "name": "stderr",
     "output_type": "stream",
     "text": [
      "127.0.0.1 - - [18/May/2022 20:19:27] \"\u001b[37mPOST /resumeparser HTTP/1.1\u001b[0m\" 200 -\n"
     ]
    },
    {
     "name": "stdout",
     "output_type": "stream",
     "text": [
      "{'personname': 'Perfect Fit', 'skills': ['Bash', 'Debugging', 'Linux', 'Cobol', 'Python', 'Computer engineering', 'Continuous deployment', 'Software', 'Software engineering', 'Sql']}\n"
     ]
    },
    {
     "name": "stderr",
     "output_type": "stream",
     "text": [
      "127.0.0.1 - - [18/May/2022 20:19:40] \"\u001b[37mOPTIONS /resumeparser HTTP/1.1\u001b[0m\" 200 -\n"
     ]
    },
    {
     "name": "stdout",
     "output_type": "stream",
     "text": [
      "{'description': 'Responsibilities\\n\\nDesigning and implement highly scalable web services with Go, Python, etc on Kubernetes and AWS services\\nDesigning and implement Web and CMS applications with NodeJS, React, Angular, Material UI, Ant Design, etc.\\nDesigning and implementing data analytics application with Python, Airflow, AWS services (Kinesis, API Gateway, Lambda functions, etc)\\nWorking with databases like DynamoDB, MySQL, PostgreSQL, RedShift, Redis, Elasticsearch, etc.\\n'}\n",
      "b'{\"description\":\"Responsibilities\\\\n\\\\nDesigning and implement highly scalable web services with Go, Python, etc on Kubernetes and AWS services\\\\nDesigning and implement Web and CMS applications with NodeJS, React, Angular, Material UI, Ant Design, etc.\\\\nDesigning and implementing data analytics application with Python, Airflow, AWS services (Kinesis, API Gateway, Lambda functions, etc)\\\\nWorking with databases like DynamoDB, MySQL, PostgreSQL, RedShift, Redis, Elasticsearch, etc.\\\\n\"}'\n"
     ]
    },
    {
     "name": "stderr",
     "output_type": "stream",
     "text": [
      "127.0.0.1 - - [18/May/2022 20:19:42] \"\u001b[37mPOST /resumeparser HTTP/1.1\u001b[0m\" 200 -\n"
     ]
    },
    {
     "name": "stdout",
     "output_type": "stream",
     "text": [
      "{'personname': 'Material UI', 'skills': ['Ant design', 'Mysql', 'Postgresql', 'Kubernetes', 'Airflow', 'Redis', 'Angular', 'Analytics', 'Python', 'React', 'Databases', 'Elasticsearch']}\n"
     ]
    },
    {
     "name": "stderr",
     "output_type": "stream",
     "text": [
      "127.0.0.1 - - [18/May/2022 20:20:01] \"\u001b[37mOPTIONS /resumeparser HTTP/1.1\u001b[0m\" 200 -\n"
     ]
    },
    {
     "name": "stdout",
     "output_type": "stream",
     "text": [
      "{'description': \"Who You Are\\nAt least 5 years of proven professional software development experience in Python, Go or similar.\\nCapacity to learn quickly about new systems and techniques\\nExcellent logic, problem solving, and troubleshooting skills\\nStrong English language communication skills - both written and verbal\\nExperience with Linux server technologies, including but not limited to Virtualization (KVM), Containers (LXC), etc.\\nYou have a Bachelor's or equivalent in Computer Science, STEM or similar degree\\nKnowledge of network technologies, including PXE, DHCP, TFTP, DNS, NTP\\nSome experience with Baseboard Management Controllers and Protocols (Redfish, IPMI, AMT and others)\\nStrong experience with networking, storage technologies and Cloud hosting and infrastructure.\\nIdeally, experience of large-scale physical server provisioning and automation, including rapid deployment, configuration, management and service orchestration.\\nFamiliarity with some of the open source development tools and methodologies used in creation of several Ubuntu projects (MAAS, Juju, Ubuntu Server, LXD, Ubuntu Core), such as Launchpad, Debian packaging tools (APT, dpkg) and snapcraft.\"}\n",
      "b'{\"description\":\"Who You Are\\\\nAt least 5 years of proven professional software development experience in Python, Go or similar.\\\\nCapacity to learn quickly about new systems and techniques\\\\nExcellent logic, problem solving, and troubleshooting skills\\\\nStrong English language communication skills - both written and verbal\\\\nExperience with Linux server technologies, including but not limited to Virtualization (KVM), Containers (LXC), etc.\\\\nYou have a Bachelor\\'s or equivalent in Computer Science, STEM or similar degree\\\\nKnowledge of network technologies, including PXE, DHCP, TFTP, DNS, NTP\\\\nSome experience with Baseboard Management Controllers and Protocols (Redfish, IPMI, AMT and others)\\\\nStrong experience with networking, storage technologies and Cloud hosting and infrastructure.\\\\nIdeally, experience of large-scale physical server provisioning and automation, including rapid deployment, configuration, management and service orchestration.\\\\nFamiliarity with some of the open source development tools and methodologies used in creation of several Ubuntu projects (MAAS, Juju, Ubuntu Server, LXD, Ubuntu Core), such as Launchpad, Debian packaging tools (APT, dpkg) and snapcraft.\"}'\n"
     ]
    },
    {
     "name": "stderr",
     "output_type": "stream",
     "text": [
      "127.0.0.1 - - [18/May/2022 20:20:03] \"\u001b[37mPOST /resumeparser HTTP/1.1\u001b[0m\" 200 -\n"
     ]
    },
    {
     "name": "stdout",
     "output_type": "stream",
     "text": [
      "{'personname': 'Baseboard Management', 'skills': ['Server', 'Deployment', 'Linux', 'Lxd', 'Debian', 'Lxc', 'Ubuntu', 'Software', 'Python', 'Computer science', 'Cloud hosting']}\n"
     ]
    },
    {
     "name": "stderr",
     "output_type": "stream",
     "text": [
      "127.0.0.1 - - [18/May/2022 20:21:40] \"\u001b[37mOPTIONS /resumeparser HTTP/1.1\u001b[0m\" 200 -\n"
     ]
    },
    {
     "name": "stdout",
     "output_type": "stream",
     "text": [
      "{'description': 'Looking for ASP.Net Software Developers to assist our leading clients in insurance industry\\n\\n\\nBachelor’s degree in Computer Engineering, Mathematical Engineering, Mathematics, Computer Programing or any related field\\nKnowledge of Object Oriented Programming\\nExperience in developing web applications using Asp.Net, C#\\nMin 2 years of experience in Oracle PL/SQL development\\nPreferably knowledge of jQuery, HTML and CSS\\nAbility to work collaboratively in a highly motivated team\\nGood documentation skills\\nAdequate level of English to follow new technologies and developments\\nHaving completed military service or postponed for at least the next 2 years'}\n",
      "b'{\"description\":\"Looking for ASP.Net Software Developers to assist our leading clients in insurance industry\\\\n\\\\n\\\\nBachelor\\xe2\\x80\\x99s degree in Computer Engineering, Mathematical Engineering, Mathematics, Computer Programing or any related field\\\\nKnowledge of Object Oriented Programming\\\\nExperience in developing web applications using Asp.Net, C#\\\\nMin 2 years of experience in Oracle PL/SQL development\\\\nPreferably knowledge of jQuery, HTML and CSS\\\\nAbility to work collaboratively in a highly motivated team\\\\nGood documentation skills\\\\nAdequate level of English to follow new technologies and developments\\\\nHaving completed military service or postponed for at least the next 2 years\"}'\n"
     ]
    },
    {
     "name": "stderr",
     "output_type": "stream",
     "text": [
      "127.0.0.1 - - [18/May/2022 20:21:43] \"\u001b[37mPOST /resumeparser HTTP/1.1\u001b[0m\" 200 -\n"
     ]
    },
    {
     "name": "stdout",
     "output_type": "stream",
     "text": [
      "{'personname': 'ASP.Net Software', 'skills': ['Documentation', 'C', 'Css', 'Jquery', 'Sql', 'Html']}\n"
     ]
    },
    {
     "name": "stderr",
     "output_type": "stream",
     "text": [
      "127.0.0.1 - - [18/May/2022 20:21:56] \"\u001b[37mOPTIONS /resumeparser HTTP/1.1\u001b[0m\" 200 -\n"
     ]
    },
    {
     "name": "stdout",
     "output_type": "stream",
     "text": [
      "{'description': 'What We’re Looking For\\n\\n\\nWe are looking for talented, passionate and agile minded team players to join our Treasury Software Development Teams\\n\\n\\n· Bachelor’s degree in Computer Science / Engineering or related fields,\\n\\n· Minimum 3 years of experience in .NET development,\\n\\n· Knowledge of C#, SQL is required,\\n\\n· Experience in Web API,\\n\\n· Strong knowledge on OOP, Design Patterns, Unit Testing,\\n\\n· Preferably knowledgeable about distributed system, micro service, cloud based application architecture,\\n\\n· Preferably knowledgeable about .Net Core, React.js, TypeScript etc.\\n\\n· Preferably knowledgeable about containerization and orchestration tools (Docker, Kubernetes, etc.).\\n\\nWhat You’ll Do\\n\\n· You will be responsible for technical design and code development processes of software projects,\\n\\n· You will participate development of business processes and support improvement of continuity and quality standards,\\n\\n· You will implement design, development and maintenance of application, architectural structure and database to meet business needs.\\n\\n· Design and implement flexible solutions\\n\\n· Ownership of assigned framework and microservices\\n\\n· Improve and extend existing solutions'}\n",
      "b'{\"description\":\"What We\\xe2\\x80\\x99re Looking For\\\\n\\\\n\\\\nWe are looking for talented, passionate and agile minded team players to join our Treasury Software Development Teams\\\\n\\\\n\\\\n\\xc2\\xb7 Bachelor\\xe2\\x80\\x99s degree in Computer Science / Engineering or related fields,\\\\n\\\\n\\xc2\\xb7 Minimum 3 years of experience in .NET development,\\\\n\\\\n\\xc2\\xb7 Knowledge of C#, SQL is required,\\\\n\\\\n\\xc2\\xb7 Experience in Web API,\\\\n\\\\n\\xc2\\xb7 Strong knowledge on OOP, Design Patterns, Unit Testing,\\\\n\\\\n\\xc2\\xb7 Preferably knowledgeable about distributed system, micro service, cloud based application architecture,\\\\n\\\\n\\xc2\\xb7 Preferably knowledgeable about .Net Core, React.js, TypeScript etc.\\\\n\\\\n\\xc2\\xb7 Preferably knowledgeable about containerization and orchestration tools (Docker, Kubernetes, etc.).\\\\n\\\\nWhat You\\xe2\\x80\\x99ll Do\\\\n\\\\n\\xc2\\xb7 You will be responsible for technical design and code development processes of software projects,\\\\n\\\\n\\xc2\\xb7 You will participate development of business processes and support improvement of continuity and quality standards,\\\\n\\\\n\\xc2\\xb7 You will implement design, development and maintenance of application, architectural structure and database to meet business needs.\\\\n\\\\n\\xc2\\xb7 Design and implement flexible solutions\\\\n\\\\n\\xc2\\xb7 Ownership of assigned framework and microservices\\\\n\\\\n\\xc2\\xb7 Improve and extend existing solutions\"}'\n"
     ]
    },
    {
     "name": "stderr",
     "output_type": "stream",
     "text": [
      "127.0.0.1 - - [18/May/2022 20:21:59] \"\u001b[37mPOST /resumeparser HTTP/1.1\u001b[0m\" 200 -\n"
     ]
    },
    {
     "name": "stdout",
     "output_type": "stream",
     "text": [
      "{'personname': 'Treasury Software', 'skills': ['Design', 'Framework', 'C', 'Api', 'Kubernetes', 'Database', 'Support', 'Typescript', 'Docker', 'Software', 'Business', 'Engineering', 'Sql', '.net']}\n"
     ]
    },
    {
     "name": "stderr",
     "output_type": "stream",
     "text": [
      "127.0.0.1 - - [18/May/2022 20:22:18] \"\u001b[37mOPTIONS /resumeparser HTTP/1.1\u001b[0m\" 200 -\n"
     ]
    },
    {
     "name": "stdout",
     "output_type": "stream",
     "text": [
      "{'description': 'BASIC QUALIFICATIONS\\n\\n\\n· Bachelor’s degree in Computer Science or a related field\\n\\n· Microservices and Event-Driven Architecture\\n\\n· Containerization and Docker\\n\\n· 5+ years experience in one or more programming languages: Java, Scala, C#, Python, Golang\\n\\n· 5+ years experience in one or more databases: Redis, HBase, MongoDB, PostgreSQL\\n\\n. SQL\\n\\n. Test Driven Development\\n\\n· Eager to learn\\n\\n\\nPREFERRED QUALIFICATIONS\\n\\n\\n· Observability Tools (ELK, Prometheus, Grafana, Alertmanager, etc.)\\n\\n· One or more CI tools: GoCD, Jenkins, GitLab CI/CD\\n\\n· Computing frameworks: Hive, Spark\\n\\n. Workflow scheduler tools such as Oozie, Airflow\\n\\n. Kubernetes\\n\\n· Scrum\\n\\n. Spring Boot\\n\\n. Domain Driven Design'}\n",
      "b'{\"description\":\"BASIC QUALIFICATIONS\\\\n\\\\n\\\\n\\xc2\\xb7 Bachelor\\xe2\\x80\\x99s degree in Computer Science or a related field\\\\n\\\\n\\xc2\\xb7 Microservices and Event-Driven Architecture\\\\n\\\\n\\xc2\\xb7 Containerization and Docker\\\\n\\\\n\\xc2\\xb7 5+ years experience in one or more programming languages: Java, Scala, C#, Python, Golang\\\\n\\\\n\\xc2\\xb7 5+ years experience in one or more databases: Redis, HBase, MongoDB, PostgreSQL\\\\n\\\\n. SQL\\\\n\\\\n. Test Driven Development\\\\n\\\\n\\xc2\\xb7 Eager to learn\\\\n\\\\n\\\\nPREFERRED QUALIFICATIONS\\\\n\\\\n\\\\n\\xc2\\xb7 Observability Tools (ELK, Prometheus, Grafana, Alertmanager, etc.)\\\\n\\\\n\\xc2\\xb7 One or more CI tools: GoCD, Jenkins, GitLab CI/CD\\\\n\\\\n\\xc2\\xb7 Computing frameworks: Hive, Spark\\\\n\\\\n. Workflow scheduler tools such as Oozie, Airflow\\\\n\\\\n. Kubernetes\\\\n\\\\n\\xc2\\xb7 Scrum\\\\n\\\\n. Spring Boot\\\\n\\\\n. Domain Driven Design\"}'\n"
     ]
    },
    {
     "name": "stderr",
     "output_type": "stream",
     "text": [
      "127.0.0.1 - - [18/May/2022 20:22:27] \"\u001b[37mPOST /resumeparser HTTP/1.1\u001b[0m\" 200 -\n"
     ]
    },
    {
     "name": "stdout",
     "output_type": "stream",
     "text": [
      "{'personname': 'Computer Science', 'skills': ['Design', 'Grafana', 'Languages', 'Prometheus', 'Jenkins', 'Python', 'Databases', 'Redis', 'Java', 'Hbase', 'Scala', 'Sql', 'Workflow', 'Docker', 'C', 'Postgresql', 'Airflow', 'Kubernetes', 'Mongodb', 'Gitlab ci']}\n"
     ]
    },
    {
     "name": "stderr",
     "output_type": "stream",
     "text": [
      "127.0.0.1 - - [18/May/2022 20:22:44] \"\u001b[37mOPTIONS /resumeparser HTTP/1.1\u001b[0m\" 200 -\n"
     ]
    },
    {
     "name": "stdout",
     "output_type": "stream",
     "text": [
      "{'description': 'Responsibilities\\n\\n\\ufeff\\n\\nWorks with business stakeholders to understand their needs; proactively suggests new solutions/improvements to the products s/he works on,\\nDesigns, develops, tests, runs performance testing, deploys, maintains and improves software components and service to develop or improve new features,\\nResolves production incidents or defects as needed, and proactively identifies potential production issues before they appear in the production environment,\\nMakes sure to deliver solutions on time and identifies and eliminates potential waste,\\nRegularly collaborates with other developers to evaluate work for technical feasibility,\\nParticipates in technical discussions and brings new ideas on the table,\\nReviews new feature impact on an application and recognizes potential risks,\\nCreates technical documentation for new features that can be easily understood by peers,\\nCreates comprehensive unit and integration tests,\\nAdheres to internal best practices and coding conventions.\\n\\nMinimum Technical Skills and Qualifications\\n\\n\\nBachelor’s or Master’s Degree in Information Technology, Computer Science, Computer Engineering, Electric-Electronic, Mathematical Engineering or a related quantitative discipline,\\nMin 2+ years of experience in Java software development/programming/coding (End-to-End),\\nExperienced with web service development/integration,\\nExperienced with object-oriented programming/design,\\nProficient in Java programming language,\\nDeep knowledge of Java fundamentals and Design Patterns like Factory, Singleton, Strategy and Facade,\\nProficient in Oracle database and SQL,\\nProficient in software testing, debugging and issues troubleshooting with the system(s) under responsibility,\\nExperienced with or knowledgeable about banking domain.\\nExperienced with Git/TFS/SVN and Maven,\\nFamiliar with SDLC and programming design patterns,\\nKnowledge of micro-services design with containers(Docker) and orchestration, (Kubernetes, OpenShift)\\nKnowledge of cloud native technologies. (e.g. Prometheus, Grafana, Kafka, ElasticSearch, Jaeger)\\n\\nSoft Skills / Other Requirements\\n\\n\\nDetail oriented, logical thinking, analytical and problem solving attitude,\\nCommunicates professionally both verbally and in writing,\\nResponsive to service needs and operational demands,\\nTeam player, solid collaboration skills, highly motivated, possesses a positive work attitude,\\nNo military obligation.'}\n",
      "b'{\"description\":\"Responsibilities\\\\n\\\\n\\xef\\xbb\\xbf\\\\n\\\\nWorks with business stakeholders to understand their needs; proactively suggests new solutions/improvements to the products s/he works on,\\\\nDesigns, develops, tests, runs performance testing, deploys, maintains and improves software components and service to develop or improve new features,\\\\nResolves production incidents or defects as needed, and proactively identifies potential production issues before they appear in the production environment,\\\\nMakes sure to deliver solutions on time and identifies and eliminates potential waste,\\\\nRegularly collaborates with other developers to evaluate work for technical feasibility,\\\\nParticipates in technical discussions and brings new ideas on the table,\\\\nReviews new feature impact on an application and recognizes potential risks,\\\\nCreates technical documentation for new features that can be easily understood by peers,\\\\nCreates comprehensive unit and integration tests,\\\\nAdheres to internal best practices and coding conventions.\\\\n\\\\nMinimum Technical Skills and Qualifications\\\\n\\\\n\\\\nBachelor\\xe2\\x80\\x99s or Master\\xe2\\x80\\x99s Degree in Information Technology, Computer Science, Computer Engineering, Electric-Electronic, Mathematical Engineering or a related quantitative discipline,\\\\nMin 2+ years of experience in Java software development/programming/coding (End-to-End),\\\\nExperienced with web service development/integration,\\\\nExperienced with object-oriented programming/design,\\\\nProficient in Java programming language,\\\\nDeep knowledge of Java fundamentals and Design Patterns like Factory, Singleton, Strategy and Facade,\\\\nProficient in Oracle database and SQL,\\\\nProficient in software testing, debugging and issues troubleshooting with the system(s) under responsibility,\\\\nExperienced with or knowledgeable about banking domain.\\\\nExperienced with Git/TFS/SVN and Maven,\\\\nFamiliar with SDLC and programming design patterns,\\\\nKnowledge of micro-services design with containers(Docker) and orchestration, (Kubernetes, OpenShift)\\\\nKnowledge of cloud native technologies. (e.g. Prometheus, Grafana, Kafka, ElasticSearch, Jaeger)\\\\n\\\\nSoft Skills / Other Requirements\\\\n\\\\n\\\\nDetail oriented, logical thinking, analytical and problem solving attitude,\\\\nCommunicates professionally both verbally and in writing,\\\\nResponsive to service needs and operational demands,\\\\nTeam player, solid collaboration skills, highly motivated, possesses a positive work attitude,\\\\nNo military obligation.\"}'\n"
     ]
    },
    {
     "name": "stderr",
     "output_type": "stream",
     "text": [
      "127.0.0.1 - - [18/May/2022 20:22:47] \"\u001b[37mPOST /resumeparser HTTP/1.1\u001b[0m\" 200 -\n"
     ]
    },
    {
     "name": "stdout",
     "output_type": "stream",
     "text": [
      "{'personname': 'Minimum Technical', 'skills': ['Design', 'Grafana', 'Database', 'Oracle', 'Business', 'Maven', 'Elasticsearch', 'Documentation', 'Programming language', 'Java', 'Sql', 'Collaboration', 'Debugging', 'Software', 'Computer science', 'Testing', 'Kubernetes', 'Git', 'Openshift', 'Kafka', 'Web service']}\n"
     ]
    },
    {
     "name": "stderr",
     "output_type": "stream",
     "text": [
      "127.0.0.1 - - [18/May/2022 20:23:02] \"\u001b[37mOPTIONS /resumeparser HTTP/1.1\u001b[0m\" 200 -\n"
     ]
    },
    {
     "name": "stdout",
     "output_type": "stream",
     "text": [
      "{'description': \"Skills we can't do without:\\n\\nGraduated from engineering departments\\nAt least 3 years’ experience of managing critical databases\\nAbility to work under stress with a proactive attitude\\nExperience in a critical 7/24 environment (always available)\\nHas strong analytical skills, problem solving ability and stress resistant capability\\nThorough, methodical and business minded\\nUsed to work in project context, to propose realistic planning and respect them\\nGreat teammate and strong in communication\\nStrong knowledge and hands-on experience in C#.net, Asp.net MVC\\nMicrosoft SQL Server, ANSI SQL and Stored Procedures with T-SQL is must\\nGood Understanding of OOP principles\\nKnowledge in source control systems (TFS, GIT etc)\\n\\nSkills we'd like:\\n\\nKnowledge in .net core, socket Programming, Encryption (SSL, RSA,3DES)\\nELK knowledge\\nDev-express MVC / Telerik MVC knowledge is a plus\\nWeb Service experience (SOAP, Web API etc) about consuming, serving and delivering.\\nHTML5, CSS, jQuery, XML, JSON know-how is a plus\"}\n",
      "b'{\"description\":\"Skills we can\\'t do without:\\\\n\\\\nGraduated from engineering departments\\\\nAt least 3 years\\xe2\\x80\\x99 experience of managing critical databases\\\\nAbility to work under stress with a proactive attitude\\\\nExperience in a critical 7/24 environment (always available)\\\\nHas strong analytical skills, problem solving ability and stress resistant capability\\\\nThorough, methodical and business minded\\\\nUsed to work in project context, to propose realistic planning and respect them\\\\nGreat teammate and strong in communication\\\\nStrong knowledge and hands-on experience in C#.net, Asp.net MVC\\\\nMicrosoft SQL Server, ANSI SQL and Stored Procedures with T-SQL is must\\\\nGood Understanding of OOP principles\\\\nKnowledge in source control systems (TFS, GIT etc)\\\\n\\\\nSkills we\\'d like:\\\\n\\\\nKnowledge in .net core, socket Programming, Encryption (SSL, RSA,3DES)\\\\nELK knowledge\\\\nDev-express MVC / Telerik MVC knowledge is a plus\\\\nWeb Service experience (SOAP, Web API etc) about consuming, serving and delivering.\\\\nHTML5, CSS, jQuery, XML, JSON know-how is a plus\"}'\n"
     ]
    },
    {
     "name": "stderr",
     "output_type": "stream",
     "text": [
      "127.0.0.1 - - [18/May/2022 20:23:05] \"\u001b[37mPOST /resumeparser HTTP/1.1\u001b[0m\" 200 -\n"
     ]
    },
    {
     "name": "stdout",
     "output_type": "stream",
     "text": [
      "{'personname': 'Asp.net MVC', 'skills': ['Encryption', 'Git', 'Css', 'Xml', 'Json', 'Business', 'Web service', 'Html5', 'Microsoft sql server', 'Jquery', 'Engineering', 'Databases', 'Sql', 'Api']}\n"
     ]
    },
    {
     "name": "stderr",
     "output_type": "stream",
     "text": [
      "127.0.0.1 - - [18/May/2022 20:23:21] \"\u001b[37mOPTIONS /resumeparser HTTP/1.1\u001b[0m\" 200 -\n"
     ]
    },
    {
     "name": "stdout",
     "output_type": "stream",
     "text": [
      "{'description': 'Be responsible for defining, developing, and evolving software in a fast paced and agile development environment using the latest software development technologies and infrastructure\\nWork with product line leaders and architects to develop multi generation software technology plans\\nDrive increased efficiency across the teams, eliminating duplication, leveraging product and technology reuse\\nSupport process improvements which guide the development, sustaining & support activities\\nDrive world-class quality in the development and support of products\\nApply principles of SDLC and methodologies like Lean/Agile/XP, CI, Software and Product Security, Scalability, Documentation Practices, refactoring and Testing Techniques\\nUnderstand performance parameters and assess application performance\\n\\nTechnical Expertise\\n5+ years of software engineering and hands-on programming experience in Front-end Development\\nExperience in architecting component libraries, building reusable UI components\\nExperience with RESTful APIs and Services\\nProficiency in Angular and JavaScript, toolings such as WebPack and HTML or CSS.\\nUnit Test knowledge (Jest, Jasmine, Karma etc…)\\nSolid grasp of cross-platform cross-browser compatibility issues and code optimization'}\n",
      "b'{\"description\":\"Be responsible for defining, developing, and evolving software in a fast paced and agile development environment using the latest software development technologies and infrastructure\\\\nWork with product line leaders and architects to develop multi generation software technology plans\\\\nDrive increased efficiency across the teams, eliminating duplication, leveraging product and technology reuse\\\\nSupport process improvements which guide the development, sustaining & support activities\\\\nDrive world-class quality in the development and support of products\\\\nApply principles of SDLC and methodologies like Lean/Agile/XP, CI, Software and Product Security, Scalability, Documentation Practices, refactoring and Testing Techniques\\\\nUnderstand performance parameters and assess application performance\\\\n\\\\nTechnical Expertise\\\\n5+ years of software engineering and hands-on programming experience in Front-end Development\\\\nExperience in architecting component libraries, building reusable UI components\\\\nExperience with RESTful APIs and Services\\\\nProficiency in Angular and JavaScript, toolings such as WebPack and HTML or CSS.\\\\nUnit Test knowledge (Jest, Jasmine, Karma etc\\xe2\\x80\\xa6)\\\\nSolid grasp of cross-platform cross-browser compatibility issues and code optimization\"}'\n"
     ]
    },
    {
     "name": "stderr",
     "output_type": "stream",
     "text": [
      "127.0.0.1 - - [18/May/2022 20:23:24] \"\u001b[37mPOST /resumeparser HTTP/1.1\u001b[0m\" 200 -\n"
     ]
    },
    {
     "name": "stdout",
     "output_type": "stream",
     "text": [
      "{'personname': 'Product Security', 'skills': ['Karma', 'Scalability', 'Css', 'Support', 'Webpack', 'Jest', 'Software', 'Component', 'Angular', 'Javascript', 'Jasmine', 'Software engineering', 'Libraries', 'Html']}\n"
     ]
    },
    {
     "name": "stderr",
     "output_type": "stream",
     "text": [
      "127.0.0.1 - - [18/May/2022 20:23:41] \"\u001b[37mOPTIONS /resumeparser HTTP/1.1\u001b[0m\" 200 -\n"
     ]
    },
    {
     "name": "stdout",
     "output_type": "stream",
     "text": [
      "{'description': 'QUALIFICATIONS AND JOB DESCRIPTION\\n\\n· University degree in Computer Engineering or a related discipline\\n\\n· At least 5 years experience in software development\\n\\n· Strong knowledge of C# .NET Core\\n\\n· Strong knowledge of Software Design Principles And Design (OOA, OOD, SOLID)\\n\\n· Background in microservices\\n\\n· Strong knowledge of development and delivery experience with Docker, Kubernetes, Elastic Stack, Redis, Kafka\\n\\n· Knowledge of relational/non-relational databases\\n\\n· Strong communicational and interpersonal skills\\n\\n· Strong analytic/problem solving skills'}\n",
      "b'{\"description\":\"QUALIFICATIONS AND JOB DESCRIPTION\\\\n\\\\n\\xc2\\xb7 University degree in Computer Engineering or a related discipline\\\\n\\\\n\\xc2\\xb7 At least 5 years experience in software development\\\\n\\\\n\\xc2\\xb7 Strong knowledge of C# .NET Core\\\\n\\\\n\\xc2\\xb7 Strong knowledge of Software Design Principles And Design (OOA, OOD, SOLID)\\\\n\\\\n\\xc2\\xb7 Background in microservices\\\\n\\\\n\\xc2\\xb7 Strong knowledge of development and delivery experience with Docker, Kubernetes, Elastic Stack, Redis, Kafka\\\\n\\\\n\\xc2\\xb7 Knowledge of relational/non-relational databases\\\\n\\\\n\\xc2\\xb7 Strong communicational and interpersonal skills\\\\n\\\\n\\xc2\\xb7 Strong analytic/problem solving skills\"}'\n"
     ]
    },
    {
     "name": "stderr",
     "output_type": "stream",
     "text": [
      "127.0.0.1 - - [18/May/2022 20:23:45] \"\u001b[37mPOST /resumeparser HTTP/1.1\u001b[0m\" 200 -\n"
     ]
    },
    {
     "name": "stdout",
     "output_type": "stream",
     "text": [
      "{'personname': 'JOB DESCRIPTION', 'skills': ['Design', 'C', 'Kubernetes', 'Computer engineering', 'Redis', 'Kafka', 'Docker', 'Software', 'Databases', '.net']}\n"
     ]
    },
    {
     "name": "stderr",
     "output_type": "stream",
     "text": [
      "127.0.0.1 - - [18/May/2022 20:24:01] \"\u001b[37mOPTIONS /resumeparser HTTP/1.1\u001b[0m\" 200 -\n"
     ]
    },
    {
     "name": "stdout",
     "output_type": "stream",
     "text": [
      "{'description': 'What do I need to qualify for this job?\\n\\nBSc., MSc. or PhD. in computer science or related areas\\nProven 4+ years of experience in software development\\nVery good command of English (German is a plus)\\nStrong programming skills in Python\\nConfirmed understanding in Python web frameworks (Flask, Django)\\nExperience in C++ development is a strong plus\\nExperience in Angular is a plus\\nHands-on experience in object-oriented concepts, data structures, algorithms and software development principles\\nStrong problem solving and analytical skills\\nOpen minded and collaborative with strong communication skills\\nExperience in continuous integration and continuous deployment concepts and tools is a plus\\nExperience in Agile Development is a plus\\nExperience in IOT platforms or machine engineering / mechatronics / control systems is a plus\\n'}\n",
      "b'{\"description\":\"What do I need to qualify for this job?\\\\n\\\\nBSc., MSc. or PhD. in computer science or related areas\\\\nProven 4+ years of experience in software development\\\\nVery good command of English (German is a plus)\\\\nStrong programming skills in Python\\\\nConfirmed understanding in Python web frameworks (Flask, Django)\\\\nExperience in C++ development is a strong plus\\\\nExperience in Angular is a plus\\\\nHands-on experience in object-oriented concepts, data structures, algorithms and software development principles\\\\nStrong problem solving and analytical skills\\\\nOpen minded and collaborative with strong communication skills\\\\nExperience in continuous integration and continuous deployment concepts and tools is a plus\\\\nExperience in Agile Development is a plus\\\\nExperience in IOT platforms or machine engineering / mechatronics / control systems is a plus\\\\n\"}'\n"
     ]
    },
    {
     "name": "stderr",
     "output_type": "stream",
     "text": [
      "127.0.0.1 - - [18/May/2022 20:24:04] \"\u001b[37mPOST /resumeparser HTTP/1.1\u001b[0m\" 200 -\n"
     ]
    },
    {
     "name": "stdout",
     "output_type": "stream",
     "text": [
      "{'personname': 'Agile Development', 'skills': ['Continuous deployment', 'Software', 'Django', 'Flask', 'C++', 'Angular', 'Data structures', 'Python', 'Engineering', 'Computer science', 'Continuous integration', 'Algorithms']}\n"
     ]
    },
    {
     "name": "stderr",
     "output_type": "stream",
     "text": [
      "127.0.0.1 - - [18/May/2022 20:28:46] \"\u001b[37mOPTIONS /resumeparser HTTP/1.1\u001b[0m\" 200 -\n"
     ]
    },
    {
     "name": "stdout",
     "output_type": "stream",
     "text": [
      "{'description': 'Responsibilities\\n\\nDesign, build and maintain APIs, services, and systems across engineering teams\\nDebug production issues across services and multiple levels of the stack\\nWork with engineers across the company to build new features at large-scale\\nImprove engineering standards, tooling, and processes\\n\\nRequirements\\n\\n\\nHave worked in scaling backend systems over at least 5 years\\n\\nEnjoy and have experience building lean APIs and amazing Backend Services\\nThink about systems and services and write high-quality code. We work mostly in Python, with some JavaScript. However, languages can be learned we care much more about your general engineering skill than knowledge of a particular language or framework\\nHave worked extensively with SQL Databases and understand NoSQL databases and Caches\\nHave experience deploying applications on the cloud. We are on AWS, but experience with any cloud provider (GCP, Azure) would be great\\nHold yourself and others to a high bar when working with production systems\\nTake pride in working on projects to successful completion involving a wide variety of technologies and systems\\nThrive in a collaborative environment involving different stakeholders\\nEnjoy working with a diverse group of people with different expertise.\\n'}\n",
      "b'{\"description\":\"Responsibilities\\\\n\\\\nDesign, build and maintain APIs, services, and systems across engineering teams\\\\nDebug production issues across services and multiple levels of the stack\\\\nWork with engineers across the company to build new features at large-scale\\\\nImprove engineering standards, tooling, and processes\\\\n\\\\nRequirements\\\\n\\\\n\\\\nHave worked in scaling backend systems over at least 5 years\\\\n\\\\nEnjoy and have experience building lean APIs and amazing Backend Services\\\\nThink about systems and services and write high-quality code. We work mostly in Python, with some JavaScript. However, languages can be learned we care much more about your general engineering skill than knowledge of a particular language or framework\\\\nHave worked extensively with SQL Databases and understand NoSQL databases and Caches\\\\nHave experience deploying applications on the cloud. We are on AWS, but experience with any cloud provider (GCP, Azure) would be great\\\\nHold yourself and others to a high bar when working with production systems\\\\nTake pride in working on projects to successful completion involving a wide variety of technologies and systems\\\\nThrive in a collaborative environment involving different stakeholders\\\\nEnjoy working with a diverse group of people with different expertise.\\\\n\"}'\n"
     ]
    },
    {
     "name": "stderr",
     "output_type": "stream",
     "text": [
      "127.0.0.1 - - [18/May/2022 20:28:49] \"\u001b[37mPOST /resumeparser HTTP/1.1\u001b[0m\" 200 -\n"
     ]
    },
    {
     "name": "stdout",
     "output_type": "stream",
     "text": [
      "{'personname': 'SQL Databases', 'skills': ['Design', 'Azure', 'Nosql', 'Languages', 'Javascript', 'Python', 'Engineering', 'Databases', 'Framework']}\n"
     ]
    },
    {
     "name": "stderr",
     "output_type": "stream",
     "text": [
      "127.0.0.1 - - [18/May/2022 20:29:11] \"\u001b[37mOPTIONS /resumeparser HTTP/1.1\u001b[0m\" 200 -\n"
     ]
    },
    {
     "name": "stdout",
     "output_type": "stream",
     "text": [
      "{'description': 'Requirements\\nExperience in jQuery and JavaScript frameworks used to build single page applications; Ember.js and React.js are preferred\\nGood understanding of data structures, algorithms, memory management, performance considerations and tradeoffs\\nHTML5 - Familiar with HTML5 APIs and browser compatibility\\nCSS3 - Good knowledge of CSS preprocessors like SAAS/LESS\\nAJAX, REST, CLI tools, template engines, Node.js, Lodash.js and usability testing are pluses.\\nDetail-oriented\\nSelf-organizing\\nProactive in identifying and resolving problems and helping others\\nPassionate about continuous improvement and self-education\\nGood at verbal and written communication in English'}\n",
      "b'{\"description\":\"Requirements\\\\nExperience in jQuery and JavaScript frameworks used to build single page applications; Ember.js and React.js are preferred\\\\nGood understanding of data structures, algorithms, memory management, performance considerations and tradeoffs\\\\nHTML5 - Familiar with HTML5 APIs and browser compatibility\\\\nCSS3 - Good knowledge of CSS preprocessors like SAAS/LESS\\\\nAJAX, REST, CLI tools, template engines, Node.js, Lodash.js and usability testing are pluses.\\\\nDetail-oriented\\\\nSelf-organizing\\\\nProactive in identifying and resolving problems and helping others\\\\nPassionate about continuous improvement and self-education\\\\nGood at verbal and written communication in English\"}'\n"
     ]
    },
    {
     "name": "stderr",
     "output_type": "stream",
     "text": [
      "127.0.0.1 - - [18/May/2022 20:29:15] \"\u001b[37mPOST /resumeparser HTTP/1.1\u001b[0m\" 200 -\n"
     ]
    },
    {
     "name": "stdout",
     "output_type": "stream",
     "text": [
      "{'skills': ['Testing', 'Ember.js', 'Css', 'Data structures', 'Html5', 'Node.js', 'Javascript', 'Jquery', 'Ajax', 'Memory management', 'Algorithms']}\n"
     ]
    },
    {
     "name": "stderr",
     "output_type": "stream",
     "text": [
      "127.0.0.1 - - [18/May/2022 20:29:58] \"\u001b[37mOPTIONS /resumeparser HTTP/1.1\u001b[0m\" 200 -\n"
     ]
    },
    {
     "name": "stdout",
     "output_type": "stream",
     "text": [
      "{'description': 'YOUR PROFILE\\n\\n\\nBachelor\\'s or Master\\'s Degree preferably in Engineering, Computer Science, Statistics\\nExperience with building AI-powered Conversational chatbots\\n2+ years of experience preferred working with foundational NLP concepts and state-of-the-art NLP architectures (BERT etc.)\\nHands-on experience with SQL, Python, TensorFlow, PyTorchProactive and result-oriented attitude\\nExtensive background in data mining and statistical analysis expressing data-driven thinking skill\\nExcellent pattern recognition and predictive modelling skills\\nDevelop custom data models and algorithms to apply to data sets\\nResearch and development of deep learning products for mobile commerce and ad-tech\\nExcellent written and verbal communication skills in English\\nExperience with mobile commerce or self-service business models is a big plus\\n\\nYOUR CHALLENGE\\n\\n\\nBeing champion of a data-driven culture and working to create advocates\\nDrive insights from free-text data in multiple languages\\nContribute to taking our chatbot to the next level\\nExplore cutting-edge approaches and toolkits for solving NLP problems\\nWork on exploratory data analysis so you can navigate a dataset and come out with broad conclusions based on initial appraisals\\nProven ability to relate and solve business problems through machine learning and statistics\\nExperience in applying various machine learning techniques and understanding the key parameters that affect their performance\\nExperience diving into data to consider hidden patterns and conducting error analysis\\nHaving a curious mind and love to ask (and answer) \"impossible\" questions\\nWork with stakeholders throughout the organisation to identify opportunities for leveraging company data to drive business solutions\\nSynthesize methodology and data into actionable business strategy and communicate findings to engineering and management teams as driving business impact'}\n",
      "b'{\"description\":\"YOUR PROFILE\\\\n\\\\n\\\\nBachelor\\'s or Master\\'s Degree preferably in Engineering, Computer Science, Statistics\\\\nExperience with building AI-powered Conversational chatbots\\\\n2+ years of experience preferred working with foundational NLP concepts and state-of-the-art NLP architectures (BERT etc.)\\\\nHands-on experience with SQL, Python, TensorFlow, PyTorchProactive and result-oriented attitude\\\\nExtensive background in data mining and statistical analysis expressing data-driven thinking skill\\\\nExcellent pattern recognition and predictive modelling skills\\\\nDevelop custom data models and algorithms to apply to data sets\\\\nResearch and development of deep learning products for mobile commerce and ad-tech\\\\nExcellent written and verbal communication skills in English\\\\nExperience with mobile commerce or self-service business models is a big plus\\\\n\\\\nYOUR CHALLENGE\\\\n\\\\n\\\\nBeing champion of a data-driven culture and working to create advocates\\\\nDrive insights from free-text data in multiple languages\\\\nContribute to taking our chatbot to the next level\\\\nExplore cutting-edge approaches and toolkits for solving NLP problems\\\\nWork on exploratory data analysis so you can navigate a dataset and come out with broad conclusions based on initial appraisals\\\\nProven ability to relate and solve business problems through machine learning and statistics\\\\nExperience in applying various machine learning techniques and understanding the key parameters that affect their performance\\\\nExperience diving into data to consider hidden patterns and conducting error analysis\\\\nHaving a curious mind and love to ask (and answer) \\\\\"impossible\\\\\" questions\\\\nWork with stakeholders throughout the organisation to identify opportunities for leveraging company data to drive business solutions\\\\nSynthesize methodology and data into actionable business strategy and communicate findings to engineering and management teams as driving business impact\"}'\n"
     ]
    },
    {
     "name": "stderr",
     "output_type": "stream",
     "text": [
      "127.0.0.1 - - [18/May/2022 20:30:00] \"\u001b[37mPOST /resumeparser HTTP/1.1\u001b[0m\" 200 -\n"
     ]
    },
    {
     "name": "stdout",
     "output_type": "stream",
     "text": [
      "{'personname': 'Computer Science', 'skills': ['Data mining', 'Pattern recognition', 'Ai', 'Deep learning', 'Nlp', 'Mobile', 'Commerce', 'Languages', 'Business', 'Tensorflow', 'Exploratory data analysis', 'Python', 'Machine learning', 'Engineering', 'Sql', 'Algorithms']}\n"
     ]
    },
    {
     "name": "stderr",
     "output_type": "stream",
     "text": [
      "127.0.0.1 - - [18/May/2022 20:30:16] \"\u001b[37mOPTIONS /resumeparser HTTP/1.1\u001b[0m\" 200 -\n"
     ]
    },
    {
     "name": "stdout",
     "output_type": "stream",
     "text": [
      "{'description': \"Here's what you'll be doing:\\nYou will be working in a highly collaborative, cross-functional environment, which requires collaboration with product managers, designers and engineers to identify opportunities and implement solutions.\\nYou will be actively involved in every part of the software development cycle, such as designing, coding, reviewing, and test writing.\\nYou will relentlessly refactor existing systems to make them more robust, maintainable, and scalable.\\nYou will be using best software development practices and processes, and willing to spread this knowledge/experience to the team.\\nYou’ll be contributing to a team culture that values openness, quality, robustness, and scalability while fostering innovation.\\nWe're excited about you because you:\\nHave BS/MS in CS or equivalent discipline.\\nHave 1+ years of professional software development experience.\\nAre team-oriented, friendly, reliable, humble, receptive to feedback, and gain satisfaction from teamwork.\\nAre a great learner, and always seek for improvement points.\\nHave a deep sense of quality, and sharp engineering skills with strong CS fundamentals in data structures, algorithms, and software design abilities including object-oriented design patterns.\\nAre self-driven, own your services by all dimensions and intrinsically have a desire to get things done\\nHave experience in developing web applications.\\nNice to have:\\nExperience with at least one modern language such as Python, Java, Kotlin\\nHave basic understanding about software design of large-scale, caching, resiliency, databases, service-oriented architecture, object-oriented design and distributed programming.\\nExperience with scalable data processing techniques such as Kafka, Spark, ElasticSearch, Celery\\nExperience with SQL and NoSQL Databases\\nTesting methods and practices.\"}\n",
      "b'{\"description\":\"Here\\'s what you\\'ll be doing:\\\\nYou will be working in a highly collaborative, cross-functional environment, which requires collaboration with product managers, designers and engineers to identify opportunities and implement solutions.\\\\nYou will be actively involved in every part of the software development cycle, such as designing, coding, reviewing, and test writing.\\\\nYou will relentlessly refactor existing systems to make them more robust, maintainable, and scalable.\\\\nYou will be using best software development practices and processes, and willing to spread this knowledge/experience to the team.\\\\nYou\\xe2\\x80\\x99ll be contributing to a team culture that values openness, quality, robustness, and scalability while fostering innovation.\\\\nWe\\'re excited about you because you:\\\\nHave BS/MS in CS or equivalent discipline.\\\\nHave 1+ years of professional software development experience.\\\\nAre team-oriented, friendly, reliable, humble, receptive to feedback, and gain satisfaction from teamwork.\\\\nAre a great learner, and always seek for improvement points.\\\\nHave a deep sense of quality, and sharp engineering skills with strong CS fundamentals in data structures, algorithms, and software design abilities including object-oriented design patterns.\\\\nAre self-driven, own your services by all dimensions and intrinsically have a desire to get things done\\\\nHave experience in developing web applications.\\\\nNice to have:\\\\nExperience with at least one modern language such as Python, Java, Kotlin\\\\nHave basic understanding about software design of large-scale, caching, resiliency, databases, service-oriented architecture, object-oriented design and distributed programming.\\\\nExperience with scalable data processing techniques such as Kafka, Spark, ElasticSearch, Celery\\\\nExperience with SQL and NoSQL Databases\\\\nTesting methods and practices.\"}'\n"
     ]
    },
    {
     "name": "stderr",
     "output_type": "stream",
     "text": [
      "127.0.0.1 - - [18/May/2022 20:30:19] \"\u001b[37mPOST /resumeparser HTTP/1.1\u001b[0m\" 200 -\n"
     ]
    },
    {
     "name": "stdout",
     "output_type": "stream",
     "text": [
      "{'skills': ['Design', 'Testing', 'Celery', 'Algorithms', 'Kotlin', 'Scalability', 'Nosql', 'Data processing', 'Kafka', 'Java', 'Software', 'Data structures', 'Python', 'Engineering', 'Databases', 'Elasticsearch', 'Sql', 'Collaboration']}\n"
     ]
    },
    {
     "name": "stderr",
     "output_type": "stream",
     "text": [
      "127.0.0.1 - - [18/May/2022 20:30:36] \"\u001b[37mOPTIONS /resumeparser HTTP/1.1\u001b[0m\" 200 -\n"
     ]
    },
    {
     "name": "stdout",
     "output_type": "stream",
     "text": [
      "{'description': 'JOB QUALIFICATIONS\\n\\n\\nBS degree in Computer Engineering or related departments\\nMin 5 years of proven experience as a developer in software projects,\\nMastered Object-Oriented software development theory and developed ASP.NET MVC applications for at least 5 years with .NET (.Net Core, .Net Classic) framework C #,\\nKnowledge of JavaScript, HTML, XML and CSS,\\nMastered on SQL Server database and T-SQL issues,\\nKnowledge of SOAP, REST, WCF Service, WebAPI,\\nPreferably knowledgeable with DevOps architecture and Microservice architectures,\\nPreferably experienced in corporate web-based applications and knowledgeable with BPM, Azure Cognitive Services, RPA\\nHas the documentation ability, likes to write the work he/she does,\\nOpen to learning new technologies, advanced planning and problem-solving ability, analytical thinker.\\nAbility to develop algorithms,\\nGood command of both written and spoken Englis\\nProficiency in MS Office applications\\n\\n\\n\\nJOB DESCRIPTION\\n\\n\\nCollaborating with other developers and business clients to develop enterprise grade software.\\nSupporting end-users.\\nDeveloping projects, conducting analyzes, preparing functional documents, participating on-site meetings with various technologies\\nMonitoring the system performance and recommends new approaches to improve overall performance\\nFollowing-up technological developments in software development and informatics,\\nOpen to continuous improvement in adaptation and application of new technologies,\\nDeveloping analyzed and prototyped software solutions, executing integration and unit tests,\\nTo ensure coordination with the project stakeholders to meet the demands and requirements.'}\n",
      "b'{\"description\":\"JOB QUALIFICATIONS\\\\n\\\\n\\\\nBS degree in Computer Engineering or related departments\\\\nMin 5 years of proven experience as a developer in software projects,\\\\nMastered Object-Oriented software development theory and developed ASP.NET MVC applications for at least 5 years with .NET (.Net Core, .Net Classic) framework C #,\\\\nKnowledge of JavaScript, HTML, XML and CSS,\\\\nMastered on SQL Server database and T-SQL issues,\\\\nKnowledge of SOAP, REST, WCF Service, WebAPI,\\\\nPreferably knowledgeable with DevOps architecture and Microservice architectures,\\\\nPreferably experienced in corporate web-based applications and knowledgeable with BPM, Azure Cognitive Services, RPA\\\\nHas the documentation ability, likes to write the work he/she does,\\\\nOpen to learning new technologies, advanced planning and problem-solving ability, analytical thinker.\\\\nAbility to develop algorithms,\\\\nGood command of both written and spoken Englis\\\\nProficiency in MS Office applications\\\\n\\\\n\\\\n\\\\nJOB DESCRIPTION\\\\n\\\\n\\\\nCollaborating with other developers and business clients to develop enterprise grade software.\\\\nSupporting end-users.\\\\nDeveloping projects, conducting analyzes, preparing functional documents, participating on-site meetings with various technologies\\\\nMonitoring the system performance and recommends new approaches to improve overall performance\\\\nFollowing-up technological developments in software development and informatics,\\\\nOpen to continuous improvement in adaptation and application of new technologies,\\\\nDeveloping analyzed and prototyped software solutions, executing integration and unit tests,\\\\nTo ensure coordination with the project stakeholders to meet the demands and requirements.\"}'\n"
     ]
    },
    {
     "name": "stderr",
     "output_type": "stream",
     "text": [
      "127.0.0.1 - - [18/May/2022 20:30:38] \"\u001b[37mPOST /resumeparser HTTP/1.1\u001b[0m\" 200 -\n"
     ]
    },
    {
     "name": "stdout",
     "output_type": "stream",
     "text": [
      "{'personname': 'Computer Engineering', 'skills': ['Documentation', 'C', 'Algorithms', 'Html', 'Database', 'Devops', 'Xml', 'Css', 'Software', 'Business', 'Javascript', 'Sql', 'Monitoring', 'Framework', '.net']}\n"
     ]
    },
    {
     "name": "stderr",
     "output_type": "stream",
     "text": [
      "127.0.0.1 - - [18/May/2022 20:30:53] \"\u001b[37mOPTIONS /resumeparser HTTP/1.1\u001b[0m\" 200 -\n"
     ]
    },
    {
     "name": "stdout",
     "output_type": "stream",
     "text": [
      "{'description': 'The Role\\nBe part of the SAP Data Intelligence Lifecycle Management development team\\nContribute to automated installation, upgrade, maintenance infrastructure of a cloud product with hundreds of enterprise customers.\\nDevelop in a native cloud environment with latest cloud technologies.\\nCollaborate with others in the engineering team to deploy new cloud features and processes across the organization\\nYour Profile\\nYou have a B.S. or M.S. Computer Science or related field, or equivalent experience\\nGood skills and experience in implementing cloud ready algorithms on at least one of the following languages: Go, Python, Java, Typescript, C++\\nYou have a passion for software development, and a practical and balanced approach to deliver new features and solve challenges\\nExperience in working in an agile development environment which requires the individual to be self-driven, take decisions independently and be flexible to cater to demand\\nVery good English, both spoken and written\\nIn This Role It’s The Advantage To Have\\nHands-on experience with cloud technologies like Kubernetes, Docker, containers, microservice architectures, and cloud scale distributed systems\\nKnowledge of Kubernetes lifecycle solutions like Helm\\nExperience with state-of-the-art development tools (Git, Github, Jira)\\nExperience with databases and SQL\\nExperience with Unix, Script languages, JSON, REST\\nExperience with cloud providers such as AWS, Azure, Google Cloud Platform (certification is a plus)'}\n",
      "b'{\"description\":\"The Role\\\\nBe part of the SAP Data Intelligence Lifecycle Management development team\\\\nContribute to automated installation, upgrade, maintenance infrastructure of a cloud product with hundreds of enterprise customers.\\\\nDevelop in a native cloud environment with latest cloud technologies.\\\\nCollaborate with others in the engineering team to deploy new cloud features and processes across the organization\\\\nYour Profile\\\\nYou have a B.S. or M.S. Computer Science or related field, or equivalent experience\\\\nGood skills and experience in implementing cloud ready algorithms on at least one of the following languages: Go, Python, Java, Typescript, C++\\\\nYou have a passion for software development, and a practical and balanced approach to deliver new features and solve challenges\\\\nExperience in working in an agile development environment which requires the individual to be self-driven, take decisions independently and be flexible to cater to demand\\\\nVery good English, both spoken and written\\\\nIn This Role It\\xe2\\x80\\x99s The Advantage To Have\\\\nHands-on experience with cloud technologies like Kubernetes, Docker, containers, microservice architectures, and cloud scale distributed systems\\\\nKnowledge of Kubernetes lifecycle solutions like Helm\\\\nExperience with state-of-the-art development tools (Git, Github, Jira)\\\\nExperience with databases and SQL\\\\nExperience with Unix, Script languages, JSON, REST\\\\nExperience with cloud providers such as AWS, Azure, Google Cloud Platform (certification is a plus)\"}'\n"
     ]
    },
    {
     "name": "stderr",
     "output_type": "stream",
     "text": [
      "127.0.0.1 - - [18/May/2022 20:30:58] \"\u001b[37mPOST /resumeparser HTTP/1.1\u001b[0m\" 200 -\n"
     ]
    },
    {
     "name": "stdout",
     "output_type": "stream",
     "text": [
      "{'personname': 'SAP Data', 'skills': ['Github', 'Azure', 'Kubernetes', 'Git', 'Java', 'Helm', 'Json', 'Languages', 'Typescript', 'C++', 'Software', 'Docker', 'Python', 'Engineering', 'Databases', 'Sql', 'Algorithms']}\n"
     ]
    },
    {
     "name": "stderr",
     "output_type": "stream",
     "text": [
      "127.0.0.1 - - [18/May/2022 20:31:10] \"\u001b[37mOPTIONS /resumeparser HTTP/1.1\u001b[0m\" 200 -\n"
     ]
    },
    {
     "name": "stdout",
     "output_type": "stream",
     "text": [
      "{'description': 'QUALIFICATIONS\\n\\n\\nBachelor’s degree in Computer Science/Engineering or relevant areas,\\nMinimum 6 years of architecture experience in software development. This includes experience designing and delivering large scale distributed systems,\\nExcellent programming skills in Microsoft .Net with ASP.NET, MVC, C#, WCF and SQL knowledge\\nGood understanding of object orientation, software architectures, SOA and design patterns\\nHas taken part in the evaluation and determination of new trend technologies,\\nTo be experienced in microservice development for multi-user high-traffic system,\\nAbility to communicate and apply common architectural design patterns across a wide range of technical problems,\\nProblem solving and analytical thinking skills are advanced.\\nExcellent written and verbal communication skills in English language\\n'}\n",
      "b'{\"description\":\"QUALIFICATIONS\\\\n\\\\n\\\\nBachelor\\xe2\\x80\\x99s degree in Computer Science/Engineering or relevant areas,\\\\nMinimum 6 years of architecture experience in software development. This includes experience designing and delivering large scale distributed systems,\\\\nExcellent programming skills in Microsoft .Net with ASP.NET, MVC, C#, WCF and SQL knowledge\\\\nGood understanding of object orientation, software architectures, SOA and design patterns\\\\nHas taken part in the evaluation and determination of new trend technologies,\\\\nTo be experienced in microservice development for multi-user high-traffic system,\\\\nAbility to communicate and apply common architectural design patterns across a wide range of technical problems,\\\\nProblem solving and analytical thinking skills are advanced.\\\\nExcellent written and verbal communication skills in English language\\\\n\"}'\n"
     ]
    },
    {
     "name": "stderr",
     "output_type": "stream",
     "text": [
      "127.0.0.1 - - [18/May/2022 20:31:13] \"\u001b[37mPOST /resumeparser HTTP/1.1\u001b[0m\" 200 -\n"
     ]
    },
    {
     "name": "stdout",
     "output_type": "stream",
     "text": [
      "{'personname': 'Computer Science', 'skills': ['Design', 'C', 'Asp.net', 'Software', 'Engineering', 'Sql']}\n"
     ]
    },
    {
     "name": "stderr",
     "output_type": "stream",
     "text": [
      "127.0.0.1 - - [18/May/2022 23:26:48] \"\u001b[37mOPTIONS /resumeparser HTTP/1.1\u001b[0m\" 200 -\n"
     ]
    },
    {
     "name": "stdout",
     "output_type": "stream",
     "text": [
      "{'description': \"Hemil Bhavsar\\\\nJr. ASP.NET Developer in True Vision Technology\\\\n\\\\nAhmedabad, Gujarat - Email me on Indeed: indeed.com/r/Hemil-Bhavsar/ce3a928d837ce9e1\\\\n\\\\nTo seek a job in the IT industry where I can utilize my skills and technical knowledge for the\\\\norganization's and individual growth\\\\n\\\\nArea of interest:\\\\n• Software Testing.\\\\n• Testing application manually.\\\\n• Great interest to learn new Technologies and Languages.\\\\n• Enterprise Application Development\\\\n• Web Application Development\\\\n\\\\nWORK EXPERIENCE\\\\n\\\\nJr. ASP.NET Developer in True Vision Technology\\\\n\\\\n-\\\\n\\\\nSeptember 2015 to May 2016\\\\n\\\\nSoftware Testing Training at Unicode Technology From March 2018 to May 2018\\\\n\\\\nJr. ASP.NET Developer (Intern) in Softech Infosys\\\\n\\\\n-\\\\n\\\\nMarch 2015 to August 2015\\\\n\\\\nEDUCATION\\\\n\\\\nMSC\\\\n\\\\nKSV University -  Gandhinagar, Gujarat\\\\n\\\\nApril 2015\\\\n\\\\nB.C.A\\\\n\\\\nGujarat University\\\\n\\\\nApril 2013\\\\n\\\\nSKILLS\\\\n\\\\nASP (1 year), ASP.NET (1 year), MS ASP (1 year), SOFTWARE TESTING (Less than 1 year),\\\\nTESTING (Less than 1 year)\\\\n\\\\nhttps://www.indeed.com/r/Hemil-Bhavsar/ce3a928d837ce9e1?isid=rex-download&ikw=download-top&co=IN\\\\n\\\\n\\\\nADDITIONAL INFORMATION\\\\n\\\\nTechnical skillset:\\\\n• Manual Testing Techniques\\\\n• Web Application testing\\\\n• STLC (Software Testing Life Cycle) process\\\\n• Verification and Validation process\\\\n• Programming Language: Software Testing, ASP.Net with C#\\\\n\\\\n• Frameworks: Microsoft Visual Studio 2010, Frameworks 3.5, Frameworks (C#) 4.0, 4.5\\\\n• Database tools: MySQL, SQL Server 2008, SQL Server 2010, MS-Access 2008\\\\n• Report generation Tool: Crystal Report\"}\n",
      "b'{\"description\":\"Hemil Bhavsar\\\\\\\\nJr. ASP.NET Developer in True Vision Technology\\\\\\\\n\\\\\\\\nAhmedabad, Gujarat - Email me on Indeed: indeed.com/r/Hemil-Bhavsar/ce3a928d837ce9e1\\\\\\\\n\\\\\\\\nTo seek a job in the IT industry where I can utilize my skills and technical knowledge for the\\\\\\\\norganization\\'s and individual growth\\\\\\\\n\\\\\\\\nArea of interest:\\\\\\\\n\\xe2\\x80\\xa2 Software Testing.\\\\\\\\n\\xe2\\x80\\xa2 Testing application manually.\\\\\\\\n\\xe2\\x80\\xa2 Great interest to learn new Technologies and Languages.\\\\\\\\n\\xe2\\x80\\xa2 Enterprise Application Development\\\\\\\\n\\xe2\\x80\\xa2 Web Application Development\\\\\\\\n\\\\\\\\nWORK EXPERIENCE\\\\\\\\n\\\\\\\\nJr. ASP.NET Developer in True Vision Technology\\\\\\\\n\\\\\\\\n-\\\\\\\\n\\\\\\\\nSeptember 2015 to May 2016\\\\\\\\n\\\\\\\\nSoftware Testing Training at Unicode Technology From March 2018 to May 2018\\\\\\\\n\\\\\\\\nJr. ASP.NET Developer (Intern) in Softech Infosys\\\\\\\\n\\\\\\\\n-\\\\\\\\n\\\\\\\\nMarch 2015 to August 2015\\\\\\\\n\\\\\\\\nEDUCATION\\\\\\\\n\\\\\\\\nMSC\\\\\\\\n\\\\\\\\nKSV University -  Gandhinagar, Gujarat\\\\\\\\n\\\\\\\\nApril 2015\\\\\\\\n\\\\\\\\nB.C.A\\\\\\\\n\\\\\\\\nGujarat University\\\\\\\\n\\\\\\\\nApril 2013\\\\\\\\n\\\\\\\\nSKILLS\\\\\\\\n\\\\\\\\nASP (1 year), ASP.NET (1 year), MS ASP (1 year), SOFTWARE TESTING (Less than 1 year),\\\\\\\\nTESTING (Less than 1 year)\\\\\\\\n\\\\\\\\nhttps://www.indeed.com/r/Hemil-Bhavsar/ce3a928d837ce9e1?isid=rex-download&ikw=download-top&co=IN\\\\\\\\n\\\\\\\\n\\\\\\\\nADDITIONAL INFORMATION\\\\\\\\n\\\\\\\\nTechnical skillset:\\\\\\\\n\\xe2\\x80\\xa2 Manual Testing Techniques\\\\\\\\n\\xe2\\x80\\xa2 Web Application testing\\\\\\\\n\\xe2\\x80\\xa2 STLC (Software Testing Life Cycle) process\\\\\\\\n\\xe2\\x80\\xa2 Verification and Validation process\\\\\\\\n\\xe2\\x80\\xa2 Programming Language: Software Testing, ASP.Net with C#\\\\\\\\n\\\\\\\\n\\xe2\\x80\\xa2 Frameworks: Microsoft Visual Studio 2010, Frameworks 3.5, Frameworks (C#) 4.0, 4.5\\\\\\\\n\\xe2\\x80\\xa2 Database tools: MySQL, SQL Server 2008, SQL Server 2010, MS-Access 2008\\\\\\\\n\\xe2\\x80\\xa2 Report generation Tool: Crystal Report\"}'\n"
     ]
    },
    {
     "name": "stderr",
     "output_type": "stream",
     "text": [
      "127.0.0.1 - - [18/May/2022 23:26:50] \"\u001b[37mPOST /resumeparser HTTP/1.1\u001b[0m\" 200 -\n"
     ]
    },
    {
     "name": "stdout",
     "output_type": "stream",
     "text": [
      "{'personname': 'Hemil Bhavsar\\\\nJr', 'skills': ['Testing', 'C', 'Mysql', 'Asp.net', 'Software', 'Database tools']}\n"
     ]
    },
    {
     "name": "stderr",
     "output_type": "stream",
     "text": [
      "127.0.0.1 - - [18/May/2022 23:28:57] \"\u001b[37mOPTIONS /resumeparser HTTP/1.1\u001b[0m\" 200 -\n"
     ]
    },
    {
     "name": "stdout",
     "output_type": "stream",
     "text": [
      "{'description': 'Key Qualifications\\n\\nExperience with large data sets.\\nExperience with REST. Ability to architect and deliver RESTful APIs according to specific standards.\\nStrong background and experience in JavaScript, HTML\\nProficiency with one of the tools for version control GitHub/GitLab/Bitbucket\\nExperience with building products with Google Cloud Platform and Amazon AWS, S3\\nHave an attitude to not just fix problems, but develop solutions\\nExcellent communication and collaboration skills\\nNice to haves: Development of products using Web Services, JSP/Spring Boot, Apache Tomcat technologies\\n\\nEducation & Experience\\n\\nBS or MS degree in Computer/Software Engineering or related field.\\n>1 years of industry experience after graduation for Junior, >3 years for Senior positions.'}\n",
      "b'{\"description\":\"Key Qualifications\\\\n\\\\nExperience with large data sets.\\\\nExperience with REST. Ability to architect and deliver RESTful APIs according to specific standards.\\\\nStrong background and experience in JavaScript, HTML\\\\nProficiency with one of the tools for version control GitHub/GitLab/Bitbucket\\\\nExperience with building products with Google Cloud Platform and Amazon AWS, S3\\\\nHave an attitude to not just fix problems, but develop solutions\\\\nExcellent communication and collaboration skills\\\\nNice to haves: Development of products using Web Services, JSP/Spring Boot, Apache Tomcat technologies\\\\n\\\\nEducation & Experience\\\\n\\\\nBS or MS degree in Computer/Software Engineering or related field.\\\\n>1 years of industry experience after graduation for Junior, >3 years for Senior positions.\"}'\n"
     ]
    },
    {
     "name": "stderr",
     "output_type": "stream",
     "text": [
      "127.0.0.1 - - [18/May/2022 23:29:01] \"\u001b[37mPOST /resumeparser HTTP/1.1\u001b[0m\" 200 -\n"
     ]
    },
    {
     "name": "stdout",
     "output_type": "stream",
     "text": [
      "{'personname': 'Google Cloud', 'skills': ['Github', 'Spring boot', 'Collaboration', 'Gitlab', 'Apache tomcat', 'Javascript', 'Bitbucket', 'Html']}\n"
     ]
    },
    {
     "name": "stderr",
     "output_type": "stream",
     "text": [
      "127.0.0.1 - - [18/May/2022 23:29:33] \"\u001b[37mOPTIONS /bestjob HTTP/1.1\u001b[0m\" 200 -\n"
     ]
    },
    {
     "name": "stdout",
     "output_type": "stream",
     "text": [
      "{'id': '3b525a7c-5169-4394-bb8a-1d5747804fa0'}\n",
      "yazdırma\n",
      "[{'id': 'ff1a1caa-20dd-4941-85ba-06233014b68d', 'skills': ['Ai', 'Deployment', 'Design', 'Databases', 'Computer science', 'Azure', 'Redis', 'Software', 'Computer vision', 'Mongodb', 'Docker', 'Python', 'Business', 'Api', 'Helm', 'Postgresql', 'Software engineering', 'Django', 'Linux', 'Kubernetes']}, {'id': '902aaf16-30a9-4113-bf07-c1a98e36c2a8', 'skills': ['Kubernetes', 'Python']}, {'id': 'c3af74f8-3d5a-4194-acbf-36c081f0fc66', 'skills': ['React', 'Javascript', 'Typescript', 'Languages', 'Server', 'Python', 'Css', 'Html', 'Git', 'Linux', 'Libraries']}, {'id': 'a86db4a5-8f22-4d16-b05c-48c9c90d2459', 'skills': ['Business', 'Ai', 'Api', 'Design', 'Security', 'Engineering', 'Java', 'Ml', 'Mobile', 'Software', 'Collaboration']}, {'id': '4eee47a9-2201-4533-a705-e99f79148bba', 'skills': ['Business', 'Design', 'Spring', 'Database', 'Security', 'Java', 'Languages', 'Support', 'Time to market', 'Operating system', 'Software', 'Concurrency', 'Algorithms']}, {'id': '925e2255-a059-4980-994a-4420c37d3e09', 'skills': ['Machine learning', 'Databases', 'Workflow', 'Industrial engineering', 'Cassandra', 'Nosql', 'Java', 'Software', 'Security', 'Analytics', 'Bash', 'Data stream', 'Mongodb', 'Sql', 'Data management', 'Solr', 'Python', 'Scala', 'Data processing', 'Hadoop', 'Business', 'Throughput', 'Software engineering', 'Elasticsearch', 'Linux', 'Data quality']}, {'id': '0ea6674a-be8d-44c2-bb6c-23466a9632d5', 'skills': ['Business', 'Ai', 'Api', 'Design', 'Security', 'Engineering', 'Java', 'Ml', 'Mobile', 'Software', 'Collaboration']}, {'id': 'e8ec2a00-f764-43d5-b3ba-b586925d9ab3', 'skills': ['React', 'Npm', 'Pixel', 'Design', 'Engineering', 'Webpack', 'Typescript', 'Es6', 'Server', 'Jira', 'Redis', 'Vuex', 'Git', 'Mongodb', 'Redux', 'Libraries']}, {'id': '597d3af9-7a7d-41d1-b7e2-69096f019a5f', 'skills': ['C', 'Api', 'Design', 'Databases', 'Kubernetes', '.net', 'Comprehension', 'Docker', 'Server', 'Devops', 'Redis', 'Software', 'Framework']}, {'id': '2dfc3279-f2ac-4f47-bccc-e1ac22f8c53f', 'skills': ['Ios', 'Support', 'Android', 'Git', 'Collaboration']}, {'id': '1c7e5a22-3f3b-4f0e-a199-f2bfea6ade8d', 'skills': ['Crm', 'Databases', 'Design', 'Support', 'Mode', 'Finance', 'Software', 'Tableau', 'Workload', 'Analytics', 'Sql', 'Reverse engineering', 'Specification', 'Data warehouse', 'System integration', 'Business', 'Oracle', 'Metadata', 'Database', 'Schedule', 'Data quality']}, {'id': '91ae47c7-490d-4aff-99f0-5bb512754714', 'skills': ['Design', 'C', 'Asp.net', 'Software', 'Sql', 'Engineering', '.net']}, {'id': '0dcd26b5-78db-43c9-81dd-c1e31868aa13', 'skills': ['Server', 'Debugging', 'Cobol', 'Computer engineering', 'Css', 'Java', 'Oracle', 'Software', '.net', 'Software engineering', 'Databases', 'Framework', 'Html']}, {'id': '6dcf0a62-edc3-4461-81e6-f6331e2b0728', 'skills': ['C', 'Git', 'Angularjs', 'Java', 'Languages', 'Software', 'C++', 'Data structures', 'Mongodb', 'Javascript', 'Python', 'Databases', 'Algorithms']}, {'id': '440587a1-3443-48c0-a381-285d43c599b6', 'skills': ['Bash', 'Debugging', 'Linux', 'Cobol', 'Python', 'Computer engineering', 'Continuous deployment', 'Software', 'Software engineering', 'Sql']}, {'id': '7e2c352d-92bd-4195-b508-afe6da695526', 'skills': ['Ant design', 'Mysql', 'Postgresql', 'Kubernetes', 'Airflow', 'Redis', 'Angular', 'Analytics', 'Python', 'React', 'Databases', 'Elasticsearch']}, {'id': 'ac478278-e4a0-4073-ac04-2ece5edfe681', 'skills': ['Server', 'Deployment', 'Linux', 'Lxd', 'Debian', 'Lxc', 'Ubuntu', 'Software', 'Python', 'Computer science', 'Cloud hosting']}, {'id': '00519622-1223-4e8d-a544-ba24144a46a4', 'skills': ['Documentation', 'C', 'Css', 'Jquery', 'Sql', 'Html']}, {'id': '4cb0e8f5-a2f6-420c-81cc-9065af96e460', 'skills': ['Design', 'Framework', 'C', 'Api', 'Kubernetes', 'Database', 'Support', 'Typescript', 'Docker', 'Software', 'Business', 'Engineering', 'Sql', '.net']}, {'id': 'a39928ec-1d29-4ea5-bda2-af41bd962013', 'skills': ['Design', 'Grafana', 'Languages', 'Prometheus', 'Jenkins', 'Python', 'Databases', 'Redis', 'Java', 'Hbase', 'Scala', 'Sql', 'Workflow', 'Docker', 'C', 'Postgresql', 'Airflow', 'Kubernetes', 'Mongodb', 'Gitlab ci']}, {'id': 'ec28169b-980c-4a8e-aaf7-c2d850392bd3', 'skills': ['Design', 'Grafana', 'Database', 'Oracle', 'Business', 'Maven', 'Elasticsearch', 'Documentation', 'Programming language', 'Java', 'Sql', 'Collaboration', 'Debugging', 'Software', 'Computer science', 'Testing', 'Kubernetes', 'Git', 'Openshift', 'Kafka', 'Web service']}, {'id': '31166528-96bc-4f02-a025-d684d5dac885', 'skills': ['Encryption', 'Git', 'Css', 'Xml', 'Json', 'Business', 'Web service', 'Html5', 'Microsoft sql server', 'Jquery', 'Engineering', 'Databases', 'Sql', 'Api']}, {'id': 'dda50ba9-f75c-4944-8ad9-3d51e13217dc', 'skills': ['Karma', 'Scalability', 'Css', 'Support', 'Webpack', 'Jest', 'Software', 'Component', 'Angular', 'Javascript', 'Jasmine', 'Software engineering', 'Libraries', 'Html']}, {'id': '69ce4e86-ee42-419f-a2b8-367f13bdea82', 'skills': ['Design', 'C', 'Kubernetes', 'Computer engineering', 'Redis', 'Kafka', 'Docker', 'Software', 'Databases', '.net']}, {'id': 'a06e226b-ff12-4be8-b3ee-8337581f0af3', 'skills': ['Continuous deployment', 'Software', 'Django', 'Flask', 'C++', 'Angular', 'Data structures', 'Python', 'Engineering', 'Computer science', 'Continuous integration', 'Algorithms']}, {'id': 'e41b867f-162c-48ed-a0b9-4a4e0a2fca09', 'skills': ['Design', 'Azure', 'Nosql', 'Languages', 'Javascript', 'Python', 'Engineering', 'Databases', 'Framework']}, {'id': 'bd579119-afdf-4445-9f01-92737453e4e4', 'skills': ['Testing', 'Ember.js', 'Css', 'Data structures', 'Html5', 'Node.js', 'Javascript', 'Jquery', 'Ajax', 'Memory management', 'Algorithms']}, {'id': 'd9f24b57-e5cf-49be-93f4-c3bc4775207d', 'skills': ['Data mining', 'Pattern recognition', 'Ai', 'Deep learning', 'Nlp', 'Mobile', 'Commerce', 'Languages', 'Business', 'Tensorflow', 'Exploratory data analysis', 'Python', 'Machine learning', 'Engineering', 'Sql', 'Algorithms']}, {'id': '7e2e05f7-d28a-4b25-9401-0b27a74ee213', 'skills': ['Design', 'Testing', 'Celery', 'Algorithms', 'Kotlin', 'Scalability', 'Nosql', 'Data processing', 'Kafka', 'Java', 'Software', 'Data structures', 'Python', 'Engineering', 'Databases', 'Elasticsearch', 'Sql', 'Collaboration']}, {'id': '4ba213bb-71ee-41fc-a338-559658c45a62', 'skills': ['Documentation', 'C', 'Algorithms', 'Html', 'Database', 'Devops', 'Xml', 'Css', 'Software', 'Business', 'Javascript', 'Sql', 'Monitoring', 'Framework', '.net']}, {'id': 'fe2c9436-7e8f-437e-89df-14f5b48c3a5e', 'skills': ['Github', 'Azure', 'Kubernetes', 'Git', 'Java', 'Helm', 'Json', 'Languages', 'Typescript', 'C++', 'Software', 'Docker', 'Python', 'Engineering', 'Databases', 'Sql', 'Algorithms']}, {'id': 'c9c03b36-e366-409e-bff3-1e177059ccd5', 'skills': ['Design', 'C', 'Asp.net', 'Software', 'Engineering', 'Sql']}, {'id': '3b525a7c-5169-4394-bb8a-1d5747804fa0', 'skills': ['Testing', 'C', 'Mysql', 'Asp.net', 'Software', 'Database tools']}]\n"
     ]
    },
    {
     "name": "stderr",
     "output_type": "stream",
     "text": [
      "C:\\Users\\Burak\\anaconda3\\lib\\site-packages\\urllib3\\connectionpool.py:981: InsecureRequestWarning: Unverified HTTPS request is being made to host 'localhost'. Adding certificate verification is strongly advised. See: https://urllib3.readthedocs.io/en/latest/advanced-usage.html#ssl-warnings\n",
      "  warnings.warn(\n",
      "C:\\Users\\Burak\\anaconda3\\lib\\site-packages\\urllib3\\connectionpool.py:981: InsecureRequestWarning: Unverified HTTPS request is being made to host 'localhost'. Adding certificate verification is strongly advised. See: https://urllib3.readthedocs.io/en/latest/advanced-usage.html#ssl-warnings\n",
      "  warnings.warn(\n",
      "C:\\Users\\Burak\\anaconda3\\lib\\site-packages\\urllib3\\connectionpool.py:981: InsecureRequestWarning: Unverified HTTPS request is being made to host 'localhost'. Adding certificate verification is strongly advised. See: https://urllib3.readthedocs.io/en/latest/advanced-usage.html#ssl-warnings\n",
      "  warnings.warn(\n",
      "C:\\Users\\Burak\\anaconda3\\lib\\site-packages\\urllib3\\connectionpool.py:981: InsecureRequestWarning: Unverified HTTPS request is being made to host 'localhost'. Adding certificate verification is strongly advised. See: https://urllib3.readthedocs.io/en/latest/advanced-usage.html#ssl-warnings\n",
      "  warnings.warn(\n",
      "127.0.0.1 - - [18/May/2022 23:29:34] \"\u001b[37mPOST /bestjob HTTP/1.1\u001b[0m\" 200 -\n",
      "127.0.0.1 - - [18/May/2022 23:30:07] \"\u001b[37mOPTIONS /bestjob HTTP/1.1\u001b[0m\" 200 -\n"
     ]
    },
    {
     "name": "stdout",
     "output_type": "stream",
     "text": [
      "{'id': '3b525a7c-5169-4394-bb8a-1d5747804fa0'}\n",
      "yazdırma\n",
      "[{'id': 'ff1a1caa-20dd-4941-85ba-06233014b68d', 'skills': ['Ai', 'Deployment', 'Design', 'Databases', 'Computer science', 'Azure', 'Redis', 'Software', 'Computer vision', 'Mongodb', 'Docker', 'Python', 'Business', 'Api', 'Helm', 'Postgresql', 'Software engineering', 'Django', 'Linux', 'Kubernetes']}, {'id': '902aaf16-30a9-4113-bf07-c1a98e36c2a8', 'skills': ['Kubernetes', 'Python']}, {'id': 'c3af74f8-3d5a-4194-acbf-36c081f0fc66', 'skills': ['React', 'Javascript', 'Typescript', 'Languages', 'Server', 'Python', 'Css', 'Html', 'Git', 'Linux', 'Libraries']}, {'id': 'a86db4a5-8f22-4d16-b05c-48c9c90d2459', 'skills': ['Business', 'Ai', 'Api', 'Design', 'Security', 'Engineering', 'Java', 'Ml', 'Mobile', 'Software', 'Collaboration']}, {'id': '4eee47a9-2201-4533-a705-e99f79148bba', 'skills': ['Business', 'Design', 'Spring', 'Database', 'Security', 'Java', 'Languages', 'Support', 'Time to market', 'Operating system', 'Software', 'Concurrency', 'Algorithms']}, {'id': '925e2255-a059-4980-994a-4420c37d3e09', 'skills': ['Machine learning', 'Databases', 'Workflow', 'Industrial engineering', 'Cassandra', 'Nosql', 'Java', 'Software', 'Security', 'Analytics', 'Bash', 'Data stream', 'Mongodb', 'Sql', 'Data management', 'Solr', 'Python', 'Scala', 'Data processing', 'Hadoop', 'Business', 'Throughput', 'Software engineering', 'Elasticsearch', 'Linux', 'Data quality']}, {'id': '0ea6674a-be8d-44c2-bb6c-23466a9632d5', 'skills': ['Business', 'Ai', 'Api', 'Design', 'Security', 'Engineering', 'Java', 'Ml', 'Mobile', 'Software', 'Collaboration']}, {'id': 'e8ec2a00-f764-43d5-b3ba-b586925d9ab3', 'skills': ['React', 'Npm', 'Pixel', 'Design', 'Engineering', 'Webpack', 'Typescript', 'Es6', 'Server', 'Jira', 'Redis', 'Vuex', 'Git', 'Mongodb', 'Redux', 'Libraries']}, {'id': '597d3af9-7a7d-41d1-b7e2-69096f019a5f', 'skills': ['C', 'Api', 'Design', 'Databases', 'Kubernetes', '.net', 'Comprehension', 'Docker', 'Server', 'Devops', 'Redis', 'Software', 'Framework']}, {'id': '2dfc3279-f2ac-4f47-bccc-e1ac22f8c53f', 'skills': ['Ios', 'Support', 'Android', 'Git', 'Collaboration']}, {'id': '1c7e5a22-3f3b-4f0e-a199-f2bfea6ade8d', 'skills': ['Crm', 'Databases', 'Design', 'Support', 'Mode', 'Finance', 'Software', 'Tableau', 'Workload', 'Analytics', 'Sql', 'Reverse engineering', 'Specification', 'Data warehouse', 'System integration', 'Business', 'Oracle', 'Metadata', 'Database', 'Schedule', 'Data quality']}, {'id': '91ae47c7-490d-4aff-99f0-5bb512754714', 'skills': ['Design', 'C', 'Asp.net', 'Software', 'Sql', 'Engineering', '.net']}, {'id': '0dcd26b5-78db-43c9-81dd-c1e31868aa13', 'skills': ['Server', 'Debugging', 'Cobol', 'Computer engineering', 'Css', 'Java', 'Oracle', 'Software', '.net', 'Software engineering', 'Databases', 'Framework', 'Html']}, {'id': '6dcf0a62-edc3-4461-81e6-f6331e2b0728', 'skills': ['C', 'Git', 'Angularjs', 'Java', 'Languages', 'Software', 'C++', 'Data structures', 'Mongodb', 'Javascript', 'Python', 'Databases', 'Algorithms']}, {'id': '440587a1-3443-48c0-a381-285d43c599b6', 'skills': ['Bash', 'Debugging', 'Linux', 'Cobol', 'Python', 'Computer engineering', 'Continuous deployment', 'Software', 'Software engineering', 'Sql']}, {'id': '7e2c352d-92bd-4195-b508-afe6da695526', 'skills': ['Ant design', 'Mysql', 'Postgresql', 'Kubernetes', 'Airflow', 'Redis', 'Angular', 'Analytics', 'Python', 'React', 'Databases', 'Elasticsearch']}, {'id': 'ac478278-e4a0-4073-ac04-2ece5edfe681', 'skills': ['Server', 'Deployment', 'Linux', 'Lxd', 'Debian', 'Lxc', 'Ubuntu', 'Software', 'Python', 'Computer science', 'Cloud hosting']}, {'id': '00519622-1223-4e8d-a544-ba24144a46a4', 'skills': ['Documentation', 'C', 'Css', 'Jquery', 'Sql', 'Html']}, {'id': '4cb0e8f5-a2f6-420c-81cc-9065af96e460', 'skills': ['Design', 'Framework', 'C', 'Api', 'Kubernetes', 'Database', 'Support', 'Typescript', 'Docker', 'Software', 'Business', 'Engineering', 'Sql', '.net']}, {'id': 'a39928ec-1d29-4ea5-bda2-af41bd962013', 'skills': ['Design', 'Grafana', 'Languages', 'Prometheus', 'Jenkins', 'Python', 'Databases', 'Redis', 'Java', 'Hbase', 'Scala', 'Sql', 'Workflow', 'Docker', 'C', 'Postgresql', 'Airflow', 'Kubernetes', 'Mongodb', 'Gitlab ci']}, {'id': 'ec28169b-980c-4a8e-aaf7-c2d850392bd3', 'skills': ['Design', 'Grafana', 'Database', 'Oracle', 'Business', 'Maven', 'Elasticsearch', 'Documentation', 'Programming language', 'Java', 'Sql', 'Collaboration', 'Debugging', 'Software', 'Computer science', 'Testing', 'Kubernetes', 'Git', 'Openshift', 'Kafka', 'Web service']}, {'id': '31166528-96bc-4f02-a025-d684d5dac885', 'skills': ['Encryption', 'Git', 'Css', 'Xml', 'Json', 'Business', 'Web service', 'Html5', 'Microsoft sql server', 'Jquery', 'Engineering', 'Databases', 'Sql', 'Api']}, {'id': 'dda50ba9-f75c-4944-8ad9-3d51e13217dc', 'skills': ['Karma', 'Scalability', 'Css', 'Support', 'Webpack', 'Jest', 'Software', 'Component', 'Angular', 'Javascript', 'Jasmine', 'Software engineering', 'Libraries', 'Html']}, {'id': '69ce4e86-ee42-419f-a2b8-367f13bdea82', 'skills': ['Design', 'C', 'Kubernetes', 'Computer engineering', 'Redis', 'Kafka', 'Docker', 'Software', 'Databases', '.net']}, {'id': 'a06e226b-ff12-4be8-b3ee-8337581f0af3', 'skills': ['Continuous deployment', 'Software', 'Django', 'Flask', 'C++', 'Angular', 'Data structures', 'Python', 'Engineering', 'Computer science', 'Continuous integration', 'Algorithms']}, {'id': 'e41b867f-162c-48ed-a0b9-4a4e0a2fca09', 'skills': ['Design', 'Azure', 'Nosql', 'Languages', 'Javascript', 'Python', 'Engineering', 'Databases', 'Framework']}, {'id': 'bd579119-afdf-4445-9f01-92737453e4e4', 'skills': ['Testing', 'Ember.js', 'Css', 'Data structures', 'Html5', 'Node.js', 'Javascript', 'Jquery', 'Ajax', 'Memory management', 'Algorithms']}, {'id': 'd9f24b57-e5cf-49be-93f4-c3bc4775207d', 'skills': ['Data mining', 'Pattern recognition', 'Ai', 'Deep learning', 'Nlp', 'Mobile', 'Commerce', 'Languages', 'Business', 'Tensorflow', 'Exploratory data analysis', 'Python', 'Machine learning', 'Engineering', 'Sql', 'Algorithms']}, {'id': '7e2e05f7-d28a-4b25-9401-0b27a74ee213', 'skills': ['Design', 'Testing', 'Celery', 'Algorithms', 'Kotlin', 'Scalability', 'Nosql', 'Data processing', 'Kafka', 'Java', 'Software', 'Data structures', 'Python', 'Engineering', 'Databases', 'Elasticsearch', 'Sql', 'Collaboration']}, {'id': '4ba213bb-71ee-41fc-a338-559658c45a62', 'skills': ['Documentation', 'C', 'Algorithms', 'Html', 'Database', 'Devops', 'Xml', 'Css', 'Software', 'Business', 'Javascript', 'Sql', 'Monitoring', 'Framework', '.net']}, {'id': 'fe2c9436-7e8f-437e-89df-14f5b48c3a5e', 'skills': ['Github', 'Azure', 'Kubernetes', 'Git', 'Java', 'Helm', 'Json', 'Languages', 'Typescript', 'C++', 'Software', 'Docker', 'Python', 'Engineering', 'Databases', 'Sql', 'Algorithms']}, {'id': 'c9c03b36-e366-409e-bff3-1e177059ccd5', 'skills': ['Design', 'C', 'Asp.net', 'Software', 'Engineering', 'Sql']}, {'id': '3b525a7c-5169-4394-bb8a-1d5747804fa0', 'skills': ['Testing', 'C', 'Mysql', 'Asp.net', 'Software', 'Database tools']}]\n"
     ]
    },
    {
     "name": "stderr",
     "output_type": "stream",
     "text": [
      "C:\\Users\\Burak\\anaconda3\\lib\\site-packages\\urllib3\\connectionpool.py:981: InsecureRequestWarning: Unverified HTTPS request is being made to host 'localhost'. Adding certificate verification is strongly advised. See: https://urllib3.readthedocs.io/en/latest/advanced-usage.html#ssl-warnings\n",
      "  warnings.warn(\n",
      "C:\\Users\\Burak\\anaconda3\\lib\\site-packages\\urllib3\\connectionpool.py:981: InsecureRequestWarning: Unverified HTTPS request is being made to host 'localhost'. Adding certificate verification is strongly advised. See: https://urllib3.readthedocs.io/en/latest/advanced-usage.html#ssl-warnings\n",
      "  warnings.warn(\n",
      "C:\\Users\\Burak\\anaconda3\\lib\\site-packages\\urllib3\\connectionpool.py:981: InsecureRequestWarning: Unverified HTTPS request is being made to host 'localhost'. Adding certificate verification is strongly advised. See: https://urllib3.readthedocs.io/en/latest/advanced-usage.html#ssl-warnings\n",
      "  warnings.warn(\n",
      "C:\\Users\\Burak\\anaconda3\\lib\\site-packages\\urllib3\\connectionpool.py:981: InsecureRequestWarning: Unverified HTTPS request is being made to host 'localhost'. Adding certificate verification is strongly advised. See: https://urllib3.readthedocs.io/en/latest/advanced-usage.html#ssl-warnings\n",
      "  warnings.warn(\n",
      "127.0.0.1 - - [18/May/2022 23:30:07] \"\u001b[37mPOST /bestjob HTTP/1.1\u001b[0m\" 200 -\n"
     ]
    }
   ],
   "source": [
    "app.run(port=4888)"
   ]
  },
  {
   "cell_type": "code",
   "execution_count": null,
   "metadata": {},
   "outputs": [],
   "source": [
    "#text=\"Develop and deliver world-class modern digital solutions for our global operations leveraging latest technologies and design patterns Help translating our internal clients' business requirements into digital solutions to realize our digitalization strategy Collaborate and work closely with business partners, architects and delivery teams throughout the globe and entire solution lifecycle Assist with the maintenance and support of new as well as existing solutions Research new technologies and develop potential scenarios that build on and enhance the existing landscape Qualifications/Experience: Our working language is English. Therefore, excellent command of English (written and verbal) is a must, German would be an asset Bachelor's degree in a related discipline Experience with Java, Spring Framework (Spring MVC, Spring Boot, Spring Data), Angular or VueJs, Javascript, TypeScript, Web Services (SOAP, REST), Microservices Architecture, JPA, Hibernate Working knowledge of one or more of the following is also highly desirable: Docker, Design Patterns (MVVM, Repository, Unit of Work, IoC Container, Dependency Injection, etc.), TDD (xUnit, JUnit), Atlassian products (JIRA Software, Confluence, Bitbucket) Good understanding of project management, system/software development lifecycle (SDLC) techniques and various industry standard agile practices (DevOps, Continuous Delivery, Continuous Integration, Scrum, Kanban) Ability to work in international teams No restriction for international travel\"\n",
    "\n",
    "#doc = nlp(text)\n",
    "#displacy.render(doc, style=\"ent\", jupyter=True)"
   ]
  },
  {
   "cell_type": "code",
   "execution_count": null,
   "metadata": {},
   "outputs": [],
   "source": [
    "#!python -m spacy download en_core_web_lg"
   ]
  },
  {
   "cell_type": "code",
   "execution_count": null,
   "metadata": {},
   "outputs": [],
   "source": [
    "print(\"Anurag Asthana\\nPune, Maharashtra - Email me on Indeed: indeed.com/r/Anurag-Asthana/ea7451b2bdb6115a\\n\\n• Looking forward for joining a company where my creative thinking and excellent skills in\\napplication development using modern development tools will be utilized.\\n\\nWilling to relocate: Anywhere\\n\\nWORK EXPERIENCE\\n\\nInfosys LTD -  MAHARASHTRA, IN -\\n\\nApril 2017 to Present\\n\\nLocation: Pune, India\\nClient: Insurance Client from London\\nDuration: April 2017 -Till Date\\nTechnology/Tools: Microsoft SharePoint 2013, Azure Cognitive Services, Azure Service Bus, Azure\\nBlob Storage, .net framework 4.7\\n\\nResponsibilities:\\n\\n• Independently worked on designing solution architecture of the project.\\n• Lead team from technical front in all the components built\\n• Followed Agile development approach to efficiently manage continuous development process\\nand incremental requirement changes\\n• Design SharePoint components using SharePoint CSOM and .net framework 4.7\\n• Design Azure components using azure .net sdks and .net framework 4.7\\n• Implement Micro Services architecture using Azure Service Bus\\n\\nProject Title: SharePoint 2013 Application Development and Enhancement\\n\\nInfosys LTD -  London -\\n\\nFebruary 2017 to March 2018\\n\\nInfosys LTD -  MAHARASHTRA, IN -\\n\\nAugust 2015 to January 2017\\n\\nSharePoint Designer\\n\\nMicrosoft SharePoint -\\n\\n2017 to 2017\\n\\n2013, Nintex.\\n\\nResponsibilities:\\n• Investigated and identified requirements via process flows, use cases communicated with\\nSubject Matter Experts to define system requirement.\\n\\nhttps://www.indeed.com/r/Anurag-Asthana/ea7451b2bdb6115a?isid=rex-download&ikw=download-top&co=IN\\n\\n\\n• Suggested improvements to be included into new system for Skills Alignment Portal\\n• Followed Agile development approach to efficiently manage continuous development process\\nand incremental requirement changes\\n• Independently designed, developed and delivered multiple forms and workflows over\\nSharePoint 2013 start from scratch using Nintex\\n• Designed and Implemented useful components using SharePoint out-of-the-box capabilities and\\nSharePoint REST web service\\n• Utilized SharePoint APPs technology to create custom enhancements on current sites for\\ncustomer satisfaction and efficiency\\n• Developed underwriting support applications using asp.net MVC / Web API.\\n\\nInfosys LTD -  MAHARASHTRA, IN -\\n\\nDecember 2013 to July 2015\\n\\nEnterprise IT Support\\n\\nInfosys LTD -  MAHARASHTRA, IN -\\n\\nSeptember 2013 to November 2013\\n\\nLocation: Pune, India\\nClient: Oil and Gas Client from USA\\nDuration: September 2013 - November 2013\\n\\nInfosys LTD -  MAHARASHTRA, IN -\\n\\nJune 2013 to August 2013\\n\\nLocation: Pune, India\\nClient: Oil and Gas Client from USA\\nDuration: June 2013 - August 2013\\n\\nInfosys LTD -  MAHARASHTRA, IN -\\n\\nFebruary 2013 to May 2013\\n\\nInfosys LTD -  MAHARASHTRA, IN -\\n\\nNovember 2012 to January 2013\\n\\nLocation: Pune, India\\nClient: Infosys Ltd.\\nDuration: November 2012 - January 2013\\n\\nSharePoint Designer, Avepoint Docave\\n\\nMicrosoft SharePoint -\\n\\n2012 to 2012\\n\\n6.\\n\\nResponsibilities:\\n\\n\\n\\n• Responsible for creating SharePoint hosted apps.\\n• Responsible for developing web services [WEB API's].\\n• Responsible for creating ECMA scripts.\\n• Responsible for creating console applications using SharePoint Client Object Model.\\n• Responsible for migrating SharePoint MOSS 2007 sites to SharePoint 2013 using Avepoint\\nDocave.\\n• Responsible for developing remote site provisioning mechanism using CSOM\\n• Responsible for creating provider hosted apps using asp.net mvc.\\n\\nProject Title: Operating System\\n\\nMicrosoft Fast Search, SharePoint Designer\\n\\nMicrosoft SharePoint -\\n\\n2010 to 2010\\n\\nResponsibilities:\\n\\n• Responsible for maintaining database of the project.\\n• Responsible for designing page layouts.\\n• Responsible for creating ECMA scripts.\\n• Responsible for creating console applications using SharePoint Client Object Model.\\n• Responsible for creating SSIS solution to import data from multiple sources using SharePoint\\nweb services.\\n• Responsible for creating custom SharePoint alerts using SSIS solution.\\n• Responsible for creating SSRS solution to create Dashboards.\\n• Responsible for creating Stored Procedures and Functions used for various operations.\\n• Responsible for customizing list forms.\\n• Responsible for creating Search pages using Microsoft FAST search 2010.\\n\\nMicrosoft SharePoint -\\n\\n2010 to 2010\\n\\nResponsibilities:\\n\\n• Responsible for fixing bugs in SharePoint applications\\n• Responsible for automating bug fixing process.\\n• Responsible for interacting with clients for understanding business requirements.\\n• Responsible for enhancing SharePoint application as per business requirements.\\n• Identifying limitations and suggesting appropriate solutions.\\n\\nMicrosoft InfoPath Designer\\n\\nMicrosoft SharePoint -\\n\\n2010 to 2010\\n\\n2010, Microsoft SharePoint Designer 2010, Microsoft Office 2010.\\n\\nResponsibilities:\\n\\n\\n\\n• Responsible for creating multiple custom lists and document libraries.\\n• Responsible for creating and customizing InfoPath forms and associating it with document\\nlibraries.\\n• Responsible for creating SharePoint Designer Workflows.\\n• Responsible for customizing list forms and views.\\n• Responsible for creating Excel reports in SharePoint.\\n\\nProject Title: 5 Day Close Monitoring Tool\\n\\nTechnology/Tools: Microsoft SharePoint 2010, Microsoft SQL Server 2008 R2, Microsoft Visual\\nStudio 2010, Microsoft InfoPath Designer 2010, Microsoft SharePoint Designer 2010, Microsoft\\nOffice 2010\\nResponsibilities:\\n\\n• Responsible for creating custom lists, document libraries, SharePoint groups.\\n• Responsible for creating custom permission levels in SharePoint and defining permission\\npolicies on lists, libraries and web parts.\\n• Responsible for maintaining database of the project.\\n• Responsible to create SSIS packages.\\n• Responsible to create power pivot reports.\\n• Responsible for creating dashboards on SharePoint site using Power Pivot library.\\n• Responsible for creating tool for generating power pivot reports on multiple servers.\\n\\nMicrosoft Designer\\n\\nMicrosoft SharePoint -\\n\\n2010 to 2010\\n\\n2010.\\nResponsibilities:\\n\\n• Responsible for creating multiple custom lists and document libraries.\\n• Responsible for creating and customizing InfoPath forms and associating it with document\\nlibraries.\\n• Responsible for creating SharePoint Designer Workflows.\\n• Responsible for customizing list forms and views.\\n• Responsible for creating custom permission levels and applying it to various lists and libraries.\\n\\nEDUCATION\\n\\nBachelor of Technology in Information Technology\\n\\nGraphic Era University -  Dehra Dun, Uttarakhand\\n\\nMay 2012\\n\\nSenior Secondary -  Kashipur, Uttarakhand\\n\\n2008\\n\\n\\n\\nSKILLS\\n\\nMICROSOFT SHAREPOINT (7 years), SHAREPOINT (7 years), .NET (6 years), MICROSOFT VISUAL\\nSTUDIO (6 years), VISUAL STUDIO (6 years)\\n\\nADDITIONAL INFORMATION\\n\\nSKILLS\\n• Vast knowledge of developing and implementing applications based on client's needs.\\n• Professional Experience in creating SharePoint solutions using C#, JavaScript etc.\\n• Professional Experience in creating asp.net web applications using MVC, Entity Framework.\\n• Professional experience in creating application using Azure micro services architecture\\n\\nTECHNICAL EXPERTISE\\n\\nLanguages and Software\\nC, C#.net, Asp.net MVC 5, Entity Framework 6, Microsoft Office, Microsoft SharePoint 2010,\\nMicrosoft SharePoint 2013, Microsoft, SharePoint Designer, Microsoft Visual Studio 2008,\\nMicrosoft Visual Studio 2010, Microsoft Visual Studio 2012, InfoPath, HTML, CSS, JavaScript,\\njQuery, SharePoint Apps using MVC and KnockoutJS, Nintex forms and Workflows, Azure\\n\\nMSBI SQL Server 2008, SQL Server 2012, SSIS, SSRS\\nOperating System Windows Family\\n\\nTOTAL EXPERIENCE\\n\\nNo. Company Role Duration\\n1. Infosys Ltd Technology Analyst 5 Years 11 Months\")"
   ]
  }
 ],
 "metadata": {
  "kernelspec": {
   "display_name": "Python 3",
   "language": "python",
   "name": "python3"
  },
  "language_info": {
   "codemirror_mode": {
    "name": "ipython",
    "version": 3
   },
   "file_extension": ".py",
   "mimetype": "text/x-python",
   "name": "python",
   "nbconvert_exporter": "python",
   "pygments_lexer": "ipython3",
   "version": "3.8.5"
  }
 },
 "nbformat": 4,
 "nbformat_minor": 4
}
